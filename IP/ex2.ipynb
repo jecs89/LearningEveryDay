{
 "cells": [
  {
   "cell_type": "code",
   "execution_count": 1,
   "metadata": {},
   "outputs": [],
   "source": [
    "import imageio as igio\n",
    "import matplotlib.pyplot as plt\n",
    "import numpy as np"
   ]
  },
  {
   "cell_type": "code",
   "execution_count": 93,
   "metadata": {},
   "outputs": [],
   "source": [
    "\n",
    "def my_fun( filename='frame0.jpg', method='1' ):\n",
    "#     im_read =igio.imread(filename)\n",
    "    \n",
    "    if( method == 1 ):\n",
    "        im_read =igio.imread(filename)\n",
    "        print('Limearization')\n",
    "        im_shape = im_read.shape\n",
    "        im_size = im_shape[0]*im_shape[1]\n",
    "        \n",
    "        counter = np.zeros([1,2])\n",
    "        counter[0,0] = 0\n",
    "        counter[0,1] = im_size\n",
    "        \n",
    "        T_i = 125\n",
    "        T = 0\n",
    "        c = 0\n",
    "        \n",
    "        channel = 0\n",
    "        while( np.abs(T_i - T) > 0.5 ):\n",
    "            print(str(T_i) + ' - ' + str(T))\n",
    "            im_read =igio.imread(filename)\n",
    "            im = im_read\n",
    "            counter = np.zeros([1,2])\n",
    "            counter_pix = np.zeros([1,2])\n",
    "            for i in range(1,im_shape[0]):\n",
    "                for j in range(1,im_shape[1]):\n",
    "                    if( im[i,j] <= T ):\n",
    "                        counter_pix[0,0] += im[i,j]\n",
    "                        im[i,j] = 0\n",
    "                        counter[0,0] += 1\n",
    "                    else:\n",
    "                        counter_pix[0,1] += im[i,j]\n",
    "                        im[i,j] = 1\n",
    "                        counter[0,1] += 1\n",
    "            \n",
    "            G1 = counter_pix[0,0] / counter[0,0]\n",
    "            G2 = counter_pix[0,1] / counter[0,1]\n",
    "            T = T_i\n",
    "            T_i = 0.5*(G1+G2)\n",
    "            print(str(T_i) + ' * ' + str(T))\n",
    "            \n",
    "            print( str(G1) + ' ' + str(G2), end = '\\n' )\n",
    "            plt.figure(figsize = (10,10))\n",
    "            plt.imshow(im[:,:]*255, cmap = plt.get_cmap(name = 'gray'))\n",
    "            plt.colorbar()\n",
    "            \n",
    "            c += 1\n",
    "    \n",
    "    if( method == 2 ):\n",
    "        im_read = filename\n",
    "        print(im_read)\n",
    "        \n",
    "        im = im_read\n",
    "        im_shape = im_read.shape\n",
    "        print(im_shape)\n",
    "        \n",
    "        im_vector = np.zeros([1,im_shape[0]*im_shape[1]]) #vectorized of original image\n",
    "        im_vector1 = np.zeros([1,im_shape[0]*im_shape[1]]) #temporal\n",
    "        print(im_shape[0]*im_shape[1])\n",
    "        \n",
    "        im_vector2 = np.zeros([1,im_shape[0]*im_shape[1]+2]) #vectorized of original image with pos -1 +1 \n",
    "        im_vector3 = np.zeros([1,im_shape[0]*im_shape[1]+2]) #temporal\n",
    "        print(im_shape[0]*im_shape[1]+2)\n",
    "        \n",
    "        im_vector3[0,0] = im_read[im_shape[0]-1,im_shape[1]-1] \n",
    "        im_vector3[0,im_shape[0]*im_shape[1]+2 - 1] = im_read[0,0]\n",
    "        \n",
    "        idx = 0\n",
    "        channel = 0\n",
    "        for i in range(0,im_shape[0]):\n",
    "            for j in range(0,im_shape[1]):\n",
    "                im_vector[0,idx] = im_read[i,j]\n",
    "                idx += 1\n",
    "                \n",
    "        print(im_vector)\n",
    "        im_vector3[0,1:im_shape[0]*im_shape[1]+1] = im_vector[0,:]\n",
    "        print(im_vector3)\n",
    "                    \n",
    "        filter = [0.5,0.3,0.2]\n",
    "        print(filter)\n",
    "        \n",
    "        for i in range(1,im_shape[0]*im_shape[1]+2-1):\n",
    "            im_vector2[0,i-1] = im_vector3[0,i-1] * filter[0] + im_vector3[0,i] * filter[1] + im_vector3[0,i+1] * filter[1]\n",
    "            print( str(im_vector3[0,i-1])+'*'+str(filter[0])+' + '+str(im_vector3[0,i])+'*'+str(filter[1])+' + '+str(im_vector3[0,i+1])+'*'+str(filter[1])+' = '+str(im_vector2[0,i-1]))\n",
    "        print(im_vector2)\n",
    "#         im_vector = im_vector2\n",
    "        \n",
    "        idx = 0\n",
    "        for i in range(0,im_shape[0]):\n",
    "            for j in range(0,im_shape[1]):\n",
    "                im_read[i,j] = im_vector2[0,idx]\n",
    "                idx += 1\n",
    "        \n",
    "        plt.figure(figsize = (10,10))        \n",
    "        plt.imshow(im[:,:], cmap = plt.get_cmap(name = 'gray'))\n",
    "        plt.colorbar()\n",
    "        \n",
    "        plt.figure(figsize = (10,10))\n",
    "        plt.imshow(im_read[:,:]*255, cmap = plt.get_cmap(name = 'gray'))\n",
    "        plt.colorbar()"
   ]
  },
  {
   "cell_type": "code",
   "execution_count": 94,
   "metadata": {},
   "outputs": [
    {
     "name": "stdout",
     "output_type": "stream",
     "text": [
      "[[1, 2, 3], [4, 5, 6], [7, 8, 9]]\n",
      "[[0. 0. 0.]\n",
      " [0. 0. 0.]\n",
      " [0. 0. 0.]]\n",
      "[[1 2 3]\n",
      " [4 5 6]\n",
      " [7 8 9]]\n"
     ]
    }
   ],
   "source": [
    "I = [[1, 2, 3], [4, 5, 6], [7, 8, 9]]\n",
    "print(I)\n",
    "II = np.zeros([3,3])\n",
    "print(II)\n",
    "II = np.array(I)\n",
    "print(II)"
   ]
  },
  {
   "cell_type": "code",
   "execution_count": 95,
   "metadata": {},
   "outputs": [
    {
     "name": "stdout",
     "output_type": "stream",
     "text": [
      "[[1 2 3]\n",
      " [4 5 6]\n",
      " [7 8 9]]\n",
      "(3, 3)\n",
      "9\n",
      "11\n",
      "[[1. 2. 3. 4. 5. 6. 7. 8. 9.]]\n",
      "[[9. 1. 2. 3. 4. 5. 6. 7. 8. 9. 1.]]\n",
      "[0.5, 0.3, 0.2]\n",
      "9.0*0.5 + 1.0*0.3 + 2.0*0.3 = 5.3999999999999995\n",
      "1.0*0.5 + 2.0*0.3 + 3.0*0.3 = 2.0\n",
      "2.0*0.5 + 3.0*0.3 + 4.0*0.3 = 3.0999999999999996\n",
      "3.0*0.5 + 4.0*0.3 + 5.0*0.3 = 4.2\n",
      "4.0*0.5 + 5.0*0.3 + 6.0*0.3 = 5.3\n",
      "5.0*0.5 + 6.0*0.3 + 7.0*0.3 = 6.4\n",
      "6.0*0.5 + 7.0*0.3 + 8.0*0.3 = 7.5\n",
      "7.0*0.5 + 8.0*0.3 + 9.0*0.3 = 8.6\n",
      "8.0*0.5 + 9.0*0.3 + 1.0*0.3 = 6.999999999999999\n",
      "[[5.4 2.  3.1 4.2 5.3 6.4 7.5 8.6 7.  0.  0. ]]\n"
     ]
    },
    {
     "data": {
      "image/png": "[encoded data removed]",
      "text/plain": [
       "<Figure size 720x720 with 2 Axes>"
      ]
     },
     "metadata": {
      "needs_background": "light"
     },
     "output_type": "display_data"
    },
    {
     "data": {
      "image/png": "[encoded data removed]",
      "text/plain": [
       "<Figure size 720x720 with 2 Axes>"
      ]
     },
     "metadata": {
      "needs_background": "light"
     },
     "output_type": "display_data"
    }
   ],
   "source": [
    "my_fun(II, method=2)"
   ]
  },
  {
   "cell_type": "code",
   "execution_count": null,
   "metadata": {},
   "outputs": [],
   "source": []
  }
 ],
 "metadata": {
  "kernelspec": {
   "display_name": "Python 3",
   "language": "python",
   "name": "python3"
  },
  "language_info": {
   "codemirror_mode": {
    "name": "ipython",
    "version": 3
   },
   "file_extension": ".py",
   "mimetype": "text/x-python",
   "name": "python",
   "nbconvert_exporter": "python",
   "pygments_lexer": "ipython3",
   "version": "3.6.8"
  }
 },
 "nbformat": 4,
 "nbformat_minor": 2
}
