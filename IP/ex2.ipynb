{
 "cells": [
  {
   "cell_type": "code",
   "execution_count": 1,
   "metadata": {},
   "outputs": [],
   "source": [
    "import imageio as igio\n",
    "import matplotlib.pyplot as plt\n",
    "import numpy as np"
   ]
  },
  {
   "cell_type": "code",
   "execution_count": null,
   "metadata": {},
   "outputs": [],
   "source": [
    "def my_fun( filename='frame0.jpg', method='1' ):\n",
    "    im_read =igio.imread(filename)\n",
    "    channel = 0\n",
    "    \n",
    "    plt.figure(figsize = (10,10))\n",
    "    plt.imshow(im_read[:,:,channel], cmap = plt.get_cmap(name = 'gray'))\n",
    "    plt.colorbar()\n",
    "    \n",
    "    if( method == 1 ):\n",
    "        im_read =igio.imread(filename)\n",
    "        print('Limearization')\n",
    "        im_shape = im_read.shape\n",
    "        im_size = im_shape[0]*im_shape[1]\n",
    "        \n",
    "        counter = np.zeros([1,2])\n",
    "        counter[0,0] = 0\n",
    "        counter[0,1] = im_size\n",
    "        \n",
    "        T_i = 125\n",
    "        T = 0\n",
    "        c = 0\n",
    "        \n",
    "        channel = 0\n",
    "        while( np.abs(T_i - T) > 0.5 ):\n",
    "            print(str(T_i) + ' - ' + str(T))\n",
    "            im_read =igio.imread(filename)\n",
    "            im = im_read\n",
    "            counter = np.zeros([1,2])\n",
    "            counter_pix = np.zeros([1,2])\n",
    "            for i in range(1,im_shape[0]):\n",
    "                for j in range(1,im_shape[1]):\n",
    "                    if( im[i,j] <= T ):\n",
    "                        counter_pix[0,0] += im[i,j]\n",
    "                        im[i,j] = 0\n",
    "                        counter[0,0] += 1\n",
    "                    else:\n",
    "                        counter_pix[0,1] += im[i,j]\n",
    "                        im[i,j] = 1\n",
    "                        counter[0,1] += 1\n",
    "            \n",
    "            G1 = counter_pix[0,0] / counter[0,0]\n",
    "            G2 = counter_pix[0,1] / counter[0,1]\n",
    "            T = T_i\n",
    "            T_i = 0.5*(G1+G2)\n",
    "            print(str(T_i) + ' * ' + str(T))\n",
    "            \n",
    "            print( str(G1) + ' ' + str(G2), end = '\\n' )\n",
    "            plt.figure(figsize = (10,10))\n",
    "            plt.imshow(im[:,:]*255, cmap = plt.get_cmap(name = 'gray'))\n",
    "            plt.colorbar()\n",
    "            \n",
    "            c += 1\n",
    "    \n",
    "    if( method == 2 ):\n",
    "        im = im_read\n",
    "        im_shape = im_read.shape\n",
    "        print(im_shape)\n",
    "        \n",
    "        im_vector = np.zeros([1,im_shape[0]*im_shape[1]]) #vectorized of original image\n",
    "        im_vector1 = np.zeros([1,im_shape[0]*im_shape[1]]) #temporal\n",
    "        print(im_shape[0]*im_shape[1])\n",
    "        \n",
    "        im_vector2 = np.zeros([1,im_shape[0]*im_shape[1]+2]) #vectorized of original image with pos -1 +1 \n",
    "        im_vector3 = np.zeros([1,im_shape[0]*im_shape[1]+2]) #temporal\n",
    "        print(im_shape[0]*im_shape[1]+2)\n",
    "        \n",
    "        im_vector3[0,0] = im_read[im_shape[0]-1,im_shape[1]-1,channel] \n",
    "        im_vector3[0,im_shape[0]*im_shape[1]+2 - 1] = im_read[0,0,channel]\n",
    "        \n",
    "        idx = 0\n",
    "        for i in range(0,im_shape[0]):\n",
    "            for j in range(0,im_shape[1]):\n",
    "                im_vector[0,idx] = im_read[i,j,channel]\n",
    "                idx += 1\n",
    "                \n",
    "        print(im_vector)\n",
    "        im_vector3[0,1:im_shape[0]*im_shape[1]+1] = im_vector[0,:]\n",
    "#         print(im_vector3)\n",
    "                    \n",
    "        filter = [0.5,0.3,0.2]\n",
    "        print(filter)\n",
    "        \n",
    "        for i in range(1,im_shape[0]*im_shape[1]+2-1):\n",
    "            im_vector2[0,i-1] = im_vector3[0,i-1] * filter[0] + im_vector3[0,i] * filter[1] + im_vector3[0,i+1] * filter[2]\n",
    "#             print( str(im_vector3[0,i-1])+'*'+str(filter[0])+' + '+str(im_vector3[0,i])+'*'+str(filter[1])+' + '+str(im_vector3[0,i+1])+'*'+str(filter[2])+' = '+str(im_vector2[0,i-1]))\n",
    "#         print(im_vector2)\n",
    "        \n",
    "        idx = 0\n",
    "        for i in range(0,im_shape[0]):\n",
    "            for j in range(0,im_shape[1]):\n",
    "                im_read[i,j,channel] = im_vector2[0,idx]\n",
    "                idx += 1\n",
    "               \n",
    "        plt.figure(figsize = (10,10))\n",
    "        plt.imshow(im_read[:,:,channel], cmap = plt.get_cmap(name = 'gray'))\n",
    "        plt.colorbar()"
   ]
  },
  {
   "cell_type": "code",
   "execution_count": null,
   "metadata": {},
   "outputs": [],
   "source": [
    "my_fun(method=2)"
   ]
  },
  {
   "cell_type": "code",
   "execution_count": null,
   "metadata": {},
   "outputs": [],
   "source": []
  },
  {
   "cell_type": "code",
   "execution_count": 2,
   "metadata": {},
   "outputs": [
    {
     "name": "stdout",
     "output_type": "stream",
     "text": [
      "[[1, 2, 3, 4, 5, 6], [7, 8, 9, 10, 11, 12], [13, 14, 15, 16, 17, 18], [19, 20, 21, 22, 23, 24], [25, 26, 27, 28, 29, 30], [31, 32, 33, 34, 35, 36]]\n",
      "[[0. 0. 0. 0. 0. 0.]\n",
      " [0. 0. 0. 0. 0. 0.]\n",
      " [0. 0. 0. 0. 0. 0.]\n",
      " [0. 0. 0. 0. 0. 0.]\n",
      " [0. 0. 0. 0. 0. 0.]\n",
      " [0. 0. 0. 0. 0. 0.]]\n",
      "[[ 1  2  3  4  5  6]\n",
      " [ 7  8  9 10 11 12]\n",
      " [13 14 15 16 17 18]\n",
      " [19 20 21 22 23 24]\n",
      " [25 26 27 28 29 30]\n",
      " [31 32 33 34 35 36]]\n"
     ]
    }
   ],
   "source": [
    "I = [[1,2,3,4,5,6],[7,8,9,10,11,12],[13,14,15,16,17,18],[19,20,21,22,23,24],[25,26,27,28,29,30],[31,32,33,34,35,36]]\n",
    "print(I)\n",
    "II = np.zeros([6,6])\n",
    "print(II)\n",
    "II = np.array(I)\n",
    "print(II)"
   ]
  },
  {
   "cell_type": "code",
   "execution_count": 3,
   "metadata": {},
   "outputs": [
    {
     "name": "stdout",
     "output_type": "stream",
     "text": [
      "[[-1, -1, -1], [0, 0, 0], [1, 1, 1]]\n",
      "[[-1 -1 -1]\n",
      " [ 0  0  0]\n",
      " [ 1  1  1]]\n"
     ]
    }
   ],
   "source": [
    "w = [[-1,-1,-1],[0,0,0],[1,1,1]]\n",
    "ww = np.zeros([3,3])\n",
    "print(w)\n",
    "ww = np.array(w)\n",
    "print(ww)"
   ]
  },
  {
   "cell_type": "code",
   "execution_count": 4,
   "metadata": {},
   "outputs": [
    {
     "name": "stdout",
     "output_type": "stream",
     "text": [
      "[[0. 0. 0. 0. 0. 0. 0. 0.]\n",
      " [0. 0. 0. 0. 0. 0. 0. 0.]\n",
      " [0. 0. 0. 0. 0. 0. 0. 0.]\n",
      " [0. 0. 0. 0. 0. 0. 0. 0.]\n",
      " [0. 0. 0. 0. 0. 0. 0. 0.]\n",
      " [0. 0. 0. 0. 0. 0. 0. 0.]\n",
      " [0. 0. 0. 0. 0. 0. 0. 0.]\n",
      " [0. 0. 0. 0. 0. 0. 0. 0.]]\n",
      "[[ 1.  1.  2.  3.  4.  5.  6.  6.]\n",
      " [ 1.  1.  2.  3.  4.  5.  6.  6.]\n",
      " [ 7.  7.  8.  9. 10. 11. 12. 12.]\n",
      " [13. 13. 14. 15. 16. 17. 18. 18.]\n",
      " [19. 19. 20. 21. 22. 23. 24. 24.]\n",
      " [25. 25. 26. 27. 28. 29. 30. 30.]\n",
      " [31. 31. 32. 33. 34. 35. 36. 36.]\n",
      " [31. 31. 32. 33. 34. 35. 36. 36.]]\n"
     ]
    }
   ],
   "source": [
    "III = np.zeros([ II.shape[0]+2, II.shape[1]+2])\n",
    "print(III)\n",
    "III[0,1:III.shape[1]-1] = II[0,:]\n",
    "III[III.shape[0]-1,1:III.shape[1]-1] = II[II.shape[1]-1,:]\n",
    "\n",
    "III[1:III.shape[0]-1,0] = II[:,0]\n",
    "III[1:III.shape[0]-1,III.shape[1]-1] = II[:,II.shape[1]-1]\n",
    "\n",
    "III[0,0] = II[0,0]\n",
    "III[III.shape[0]-1,0] = II[II.shape[0]-1,0]\n",
    "III[0,III.shape[1]-1] = II[0,II.shape[1]-1]\n",
    "III[III.shape[0]-1,III.shape[1]-1] = II[II.shape[1]-1,II.shape[1]-1]\n",
    "\n",
    "III[1:III.shape[0]-1,1:III.shape[1]-1] = II[0:II.shape[0],0:II.shape[1]]\n",
    "\n",
    "print(III)"
   ]
  },
  {
   "cell_type": "code",
   "execution_count": 16,
   "metadata": {},
   "outputs": [
    {
     "name": "stdout",
     "output_type": "stream",
     "text": [
      "[[ 1  2  3  4  5  6]\n",
      " [ 7  8  9 10 11 12]\n",
      " [13 14 15 16 17 18]\n",
      " [19 20 21 22 23 24]\n",
      " [25 26 27 28 29 30]\n",
      " [31 32 33 34 35 36]]\n",
      "[[18 18 18 18 18 18]\n",
      " [36 36 36 36 36 36]\n",
      " [36 36 36 36 36 36]\n",
      " [36 36 36 36 36 36]\n",
      " [36 36 36 36 36 36]\n",
      " [18 18 18 18 18 18]]\n"
     ]
    },
    {
     "data": {
      "text/plain": [
       "<matplotlib.colorbar.Colorbar at 0x7f7950047400>"
      ]
     },
     "execution_count": 16,
     "metadata": {},
     "output_type": "execute_result"
    },
    {
     "data": {
      "image/png": "[encoded data removed]",
      "text/plain": [
       "<Figure size 720x720 with 2 Axes>"
      ]
     },
     "metadata": {
      "needs_background": "light"
     },
     "output_type": "display_data"
    },
    {
     "data": {
      "image/png": "[encoded data removed]",
      "text/plain": [
       "<Figure size 720x720 with 2 Axes>"
      ]
     },
     "metadata": {
      "needs_background": "light"
     },
     "output_type": "display_data"
    }
   ],
   "source": [
    "II = np.array(I)\n",
    "II_c = np.array(II)\n",
    "print(II_c)\n",
    "\n",
    "plt.figure(figsize = (10,10))\n",
    "plt.imshow(II_c, cmap = plt.get_cmap(name = 'gray'))\n",
    "plt.colorbar()\n",
    "\n",
    "for i in range(1,III.shape[0]-1):\n",
    "    for j in range(1,III.shape[1]-1):\n",
    "        c = 0\n",
    "        i_x = i - 1 \n",
    "        for x in range(0,ww.shape[0]):\n",
    "            i_y = j - 1\n",
    "            for y in range(0,ww.shape[1]):\n",
    "                c += ww[x,y] * III[i_x,i_y]\n",
    "#                 print(str(ww[x,y]) + ' ' + str(III[i_x,i_y]))\n",
    "                i_y += 1\n",
    "            i_x += 1\n",
    "        II_c[i-1,j-1] = c\n",
    "print(II_c)\n",
    "\n",
    "plt.figure(figsize = (10,10))\n",
    "plt.imshow(II_c, cmap = plt.get_cmap(name = 'gray'))\n",
    "plt.colorbar()       "
   ]
  },
  {
   "cell_type": "code",
   "execution_count": null,
   "metadata": {},
   "outputs": [],
   "source": []
  },
  {
   "cell_type": "code",
   "execution_count": null,
   "metadata": {},
   "outputs": [],
   "source": []
  }
 ],
 "metadata": {
  "kernelspec": {
   "display_name": "Python 3",
   "language": "python",
   "name": "python3"
  },
  "language_info": {
   "codemirror_mode": {
    "name": "ipython",
    "version": 3
   },
   "file_extension": ".py",
   "mimetype": "text/x-python",
   "name": "python",
   "nbconvert_exporter": "python",
   "pygments_lexer": "ipython3",
   "version": "3.6.8"
  }
 },
 "nbformat": 4,
 "nbformat_minor": 2
}
