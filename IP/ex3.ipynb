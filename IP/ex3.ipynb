{
 "cells": [
  {
   "cell_type": "code",
   "execution_count": 1,
   "metadata": {},
   "outputs": [
    {
     "data": {
      "text/html": [
       "\n",
       "<style>\n",
       "    div#notebook-container    { width: 95%; }\n",
       "    div#menubar-container     { width: 65%; }\n",
       "    div#maintoolbar-container { width: 99%; }\n",
       "</style>\n"
      ],
      "text/plain": [
       "<IPython.core.display.HTML object>"
      ]
     },
     "metadata": {},
     "output_type": "display_data"
    }
   ],
   "source": [
    "from IPython.display import display, HTML\n",
    "\n",
    "display(HTML(data=\"\"\"\n",
    "<style>\n",
    "    div#notebook-container    { width: 95%; }\n",
    "    div#menubar-container     { width: 65%; }\n",
    "    div#maintoolbar-container { width: 99%; }\n",
    "</style>\n",
    "\"\"\"))"
   ]
  },
  {
   "cell_type": "code",
   "execution_count": 2,
   "metadata": {},
   "outputs": [],
   "source": [
    "import imageio as igio\n",
    "import matplotlib.pyplot as plt\n",
    "import numpy as np\n",
    "import random\n",
    "import scipy as scpy"
   ]
  },
  {
   "cell_type": "code",
   "execution_count": 3,
   "metadata": {},
   "outputs": [],
   "source": [
    "def my_mse( A, B):\n",
    "#     if( A.shape != B.shape):\n",
    "#         print('Both matrixes are of same dimensions\\n')\n",
    "    counter = 0\n",
    "    for i in range(0,A.shape[0]):\n",
    "        for j in range(0,A.shape[1]):\n",
    "            counter += (A[i,j]- B[i,j])*(A[i,j]- B[i,j])\n",
    "#     print( 'mse:', np.sqrt(counter/A.shape[0]*A.shape[1]) ) \n",
    "    return np.sqrt(counter/(A.shape[0]*A.shape[1]))"
   ]
  },
  {
   "cell_type": "code",
   "execution_count": 4,
   "metadata": {},
   "outputs": [],
   "source": [
    "def histogram(A, no_levels):\n",
    "    # gets the size of the input matrix\n",
    "    N, M = A.shape\n",
    "    # creates an empty histogram with size proportional to the number of graylevels \n",
    "    hist = np.zeros(no_levels).astype(int)\n",
    "\n",
    "    # computes for all levels in the range\n",
    "    for i in range(no_levels):\n",
    "        # the np.where() function returns the indices for all coordinates \n",
    "        # in some array matching the condition. In this case, all pixels\n",
    "        # that have value 'i'\n",
    "        pixels_value_i = np.where(A == i)\n",
    "        \n",
    "        #print(pixels_value_i)  # uncomment to print array of coordinates\n",
    "        \n",
    "        # by counting how many coordinates the np.where function returned, \n",
    "        # we can assign it at the respective histogram bin\n",
    "        # this is done by getting the size of the vector of coordinates\n",
    "        hist[i] = pixels_value_i[0].shape[0]\n",
    "            \n",
    "    return(hist)"
   ]
  },
  {
   "cell_type": "code",
   "execution_count": 5,
   "metadata": {},
   "outputs": [],
   "source": [
    "#size of the denoising filter kernel (if type 1) or size of degradation function (if\n",
    "#type 2), k ∈ [3, 5, 7, 9, 11],\n",
    "#Afterwards, if the type of filter is 1 (denoising), get the following input:\n",
    "# • mode for denoising mode = \"average\" or \"robust\",\n",
    "# Otherwise, if the type of filter is 2 (deblurring), then\n",
    "# • sigma for the degradation function σ > 0.\n",
    "\n",
    "def my_min(im):\n",
    "    m_min = 256\n",
    "    for i in range(im.shape[0]):\n",
    "        for j in range(im.shape[1]):\n",
    "            if( im[i,j] < m_min ):\n",
    "                m_min = im[i,j]\n",
    "    return m_min\n",
    "    \n",
    "def my_max(im):\n",
    "    m_max = -1\n",
    "    for i in range(im.shape[0]):\n",
    "        for j in range(im.shape[1]):\n",
    "            if( im[i,j] > m_max ):\n",
    "                m_max = im[i,j]\n",
    "    return m_max\n",
    "\n",
    "def my_scale( img_orig, img_dest  ):\n",
    "    img_scaled = np.zeros(img_dest.shape)\n",
    "    \n",
    "    a = my_min(img_orig)\n",
    "    b = my_max(img_orig)\n",
    "    \n",
    "    img_dest_min = my_min(img_dest)\n",
    "    img_dest_max = my_max(img_dest)\n",
    "    \n",
    "    for i in range(img_dest.shape[0]):\n",
    "        for j in range(img_dest.shape[1]):\n",
    "            img_scaled[i,j] = (b - a)*(img_dest[i,j]-img_dest_min)/(img_dest_max-img_dest_min) + a\n",
    "    \n",
    "    return img_scaled\n",
    "\n",
    "def my_fun(name_reference, name_degraded, F, gamma, size_denoising_filter, denoising_type, sigma ):\n",
    "    \n",
    "    img_reference =igio.imread(name_reference)\n",
    "#     print(img_reference.shape)\n",
    "    img_degraded =igio.imread(name_degraded)\n",
    "#     print(img_degraded.shape)\n",
    "    \n",
    "    img_f = np.zeros(img_degraded.shape)\n",
    "#     print(img_f.shape)\n",
    "    \n",
    "    ##Copy of values with no filter passing\n",
    "    img_f[0, 0:img_reference.shape[1]-1] = img_reference[0, 0:img_reference.shape[1]-1]\n",
    "    img_f[img_reference.shape[0]-1, 0:img_reference.shape[1]-1] = img_reference[img_reference.shape[0]-1, 0:img_reference.shape[1]-1]\n",
    "    \n",
    "    img_f[0:img_reference.shape[0]-1, 0] = img_reference[0:img_reference.shape[0]-1, 0]\n",
    "    img_f[0:img_reference.shape[0]-1, img_reference.shape[1]-1] = img_reference[0:img_reference.shape[0]-1, img_reference.shape[1]-1]\n",
    "#     print(img_f)\n",
    "    \n",
    "    ##Clarify disp_n is only calculates on [0,1/6*m], [0,1/6*n]\n",
    "    x_d = int(np.floor(img_degraded.shape[0]/6)) ##Clarify what is m or n???\n",
    "    y_d = int(np.floor(img_degraded.shape[1]/6))\n",
    "    \n",
    "    n_range = np.zeros([1, x_d*y_d])\n",
    "    idx = 0\n",
    "    disp_n = -1\n",
    "    for x in range(0,x_d):\n",
    "        for y in range(0,y_d):\n",
    "            n_range[0, idx] = img_degraded[x,y]\n",
    "            idx += 1\n",
    "        if(denoising_type == 'average'):\n",
    "            disp_n = np.std(n_range)\n",
    "        elif(denoising_type == 'robust'):\n",
    "            disp_n = np.percentile(n_range, 75, interpolation='higher') - np.percentile(n_range, 25, interpolation='lower')\n",
    "    \n",
    "    ##Error Checking disp_n\n",
    "    if disp_n == 0:\n",
    "        disp_n = 1\n",
    "    \n",
    "#     print('disp_n ', disp_n)\n",
    "    \n",
    "    centr_l = -1\n",
    "    ##Adaptative Denoising\n",
    "    for i in range(1, img_degraded.shape[0]-2):\n",
    "        for j in range(1, img_degraded.shape[1]-2):\n",
    "            \n",
    "            ##Calculate disp_l\n",
    "            val = int(np.floor(size_denoising_filter.shape[1]/2))\n",
    "                \n",
    "            l_range = np.zeros([1, int(size_denoising_filter.shape[0]*size_denoising_filter.shape[1]) - 1])\n",
    "            \n",
    "            idx = 0\n",
    "            \n",
    "            inc_i = -val\n",
    "#             print('i j : ', i, j)\n",
    "            for n_i in range(0, size_denoising_filter.shape[0]):\n",
    "                inc_j = -val\n",
    "                for n_j in range(0, size_denoising_filter.shape[1]):\n",
    "                    if( not(n_i == 1 & n_j == 1) ):\n",
    "                        l_range[0, idx] = img_degraded[i + inc_i, j + inc_j]\n",
    "#                         print(l_range)\n",
    "                        idx += 1\n",
    "                    inc_j += 1\n",
    "                inc_i += 1\n",
    "            \n",
    "            if(denoising_type == 'average'):\n",
    "                centr_l = np.std(l_range)\n",
    "            elif(denoising_type == 'robust'):\n",
    "                centr_l = np.percentile(l_range, 75, interpolation='higher') - np.percentile(l_range, 25, interpolation='lower')\n",
    "            \n",
    "            disp_l = np.std(l_range)\n",
    "            \n",
    "            ##Error checking\n",
    "            if (disp_l == 0):\n",
    "                disp_l = disp_n\n",
    "            \n",
    "            ##Calculate centr_l\n",
    "            centr_l = 0\n",
    "            if(denoising_type == 'average'):\n",
    "                centr_l = np.average(l_range)\n",
    "            elif(denoising_type == 'robust'):\n",
    "                centrl_l = np.median(l_range)\n",
    "            \n",
    "            \n",
    "            img_f[i,j] = img_degraded[i,j] - gamma * disp_n/disp_l * (img_degraded[i,j] - centr_l)\n",
    "            \n",
    "#     igio.imwrite('im_ori.png', img_f.astype('uint8'))\n",
    "    \n",
    "#     img_f = my_scale(img_reference, img_f)\n",
    "#     igio.imwrite('im_norm.png', img_f.astype('uint8'))\n",
    "#     print(img_f.shape)\n",
    "    \n",
    "    return img_f"
   ]
  },
  {
   "cell_type": "code",
   "execution_count": 6,
   "metadata": {},
   "outputs": [],
   "source": [
    "def gaussian_filter(k=5,sigma=1.0):\n",
    "    arx=np.arange((-k//2)+1.0,(k//2)+1.0)\n",
    "    x,y=np.meshgrid(arx,arx)\n",
    "    filt=np.exp(-(1/2)*(np.square(x)+np.square(y))/np.square(sigma))\n",
    "    return filt/np.sum(filt)\n",
    "\n",
    "def center_padding(H_u, g_filter):\n",
    "    inc = int(np.floor(g_filter.shape[0]/2))\n",
    "    x = int(np.floor(H_u.shape[0]/2))\n",
    "    y = int(np.floor(H_u.shape[1]/2))\n",
    "    H_u[ x - inc:x + inc+1, y - inc:y+inc+1 ] = g_filter\n",
    "    return H_u\n",
    "\n",
    "def dislocar(G_u):\n",
    "    G_u_tmp = np.copy(G_u)\n",
    "    inc_x = int(np.floor(G_u.shape[0]/2))\n",
    "    inc_y = int(np.floor(G_u.shape[1]/2))\n",
    "\n",
    "    G_u[0:inc_x, 0:inc_y] = G_u_tmp[inc_x:G_u.shape[0], inc_y:G_u.shape[1]]\n",
    "\n",
    "    G_u[0:inc_x, 0:inc_y] = G_u_tmp[inc_x:G_u.shape[0], inc_y:G_u.shape[1]]\n",
    "    G_u[inc_x:G_u.shape[0], inc_y:G_u.shape[1]] = G_u_tmp[0:inc_x, 0:inc_y]\n",
    "    \n",
    "    G_u[0:inc_x, inc_y:G_u.shape[1]] = G_u_tmp[inc_x:G_u.shape[0], 0:inc_y]\n",
    "    G_u[inc_x:G_u.shape[0], 0:inc_y] = G_u_tmp[0:inc_x, inc_y:G_u.shape[1]]\n",
    "    \n",
    "    return G_u"
   ]
  },
  {
   "cell_type": "code",
   "execution_count": 19,
   "metadata": {},
   "outputs": [],
   "source": [
    "from scipy.fftpack import fft, ifft\n",
    "\n",
    "def my_fun1(name_reference, name_degraded, F, gamma, size_denoising_filter, sigma ):\n",
    "    \n",
    "    img_reference =igio.imread(name_reference)\n",
    "    img_degraded =igio.imread(name_degraded)\n",
    "    \n",
    "#     print('img_r', img_reference.shape)\n",
    "#     print('img_d', img_degraded.shape)\n",
    "    \n",
    "    f = np.zeros(img_reference.shape)\n",
    "#     print('f', f.shape)\n",
    "    \n",
    "    g_filter = gaussian_filter(size_denoising_filter, sigma)\n",
    "    H_u = np.zeros(img_reference.shape)\n",
    "    H_u = center_padding(H_u, g_filter) \n",
    "#     print('H_u', H_u.shape)\n",
    "\n",
    "    p_u = np.array([ [0, -1, 0], [-1, 4, -1], [0, -1, 0] ])\n",
    "    P_u = np.zeros(img_reference.shape)\n",
    "    P_u = center_padding(P_u, p_u)\n",
    "#     print('P_u', P_u.shape)\n",
    "\n",
    "    plt.figure(figsize=(10,10))\n",
    "    plt.subplot(1,2,1)\n",
    "    plt.imshow(H_u, cmap = 'gray')\n",
    "    plt.subplot(1,2,2)\n",
    "    plt.imshow(P_u, cmap = 'gray')\n",
    "\n",
    "    H_u = fft(H_u)\n",
    "#     H_u = dislocar(H_u)\n",
    "    \n",
    "#     print('fH_u', H_u.shape)\n",
    "    P_u = fft(P_u)\n",
    "#     P_u = dislocar(P_u)\n",
    "    \n",
    "#     print('fP_u', P_u.shape)\n",
    "\n",
    "    plt.figure(figsize=(10,10))\n",
    "    plt.subplot(1,4,1)\n",
    "    plt.imshow(H_u.real, cmap = 'gray')\n",
    "    plt.subplot(1,4,2)\n",
    "    plt.imshow(H_u.imag, cmap = 'gray')\n",
    "\n",
    "\n",
    "    plt.subplot(1,4,3)\n",
    "    plt.imshow(P_u.real, cmap = 'gray')\n",
    "    plt.subplot(1,4,4)\n",
    "    plt.imshow(P_u.imag, cmap = 'gray')\n",
    "\n",
    "    H_u_ = np.conjugate(H_u)\n",
    "#     print('H_u_', H_u_.shape)\n",
    "    G_u = fft(img_degraded)\n",
    "#     print('G_u', G_u.shape)\n",
    "    gamma = 0.00005\n",
    "\n",
    "    plt.figure(figsize=(10,10))\n",
    "    plt.subplot(1,6,1)\n",
    "    plt.imshow(img_degraded, cmap = 'gray')\n",
    "\n",
    "    plt.subplot(1,6,2)\n",
    "    plt.imshow(ifft(G_u).real, cmap = 'gray')\n",
    "    G_u = dislocar(G_u)\n",
    "    plt.subplot(1,6,3)\n",
    "    plt.imshow(G_u.real, cmap = 'gray')\n",
    "    plt.subplot(1,6,4)\n",
    "    plt.imshow(G_u.imag, cmap = 'gray')\n",
    "\n",
    "    for i in range(0,f.shape[0]):\n",
    "        for j in range(0,f.shape[1]):\n",
    "            f[i,j] = ( H_u_[i,j] / ( np.square(np.abs(H_u[i,j])) + gamma * np.square(np.abs(P_u[i,j])) + 0.000001 )   ) * G_u[i,j]\n",
    "    #         print(f[i,j])\n",
    "\n",
    "    plt.subplot(1,6,5)\n",
    "    plt.imshow(f.real, cmap = 'gray')\n",
    "    plt.subplot(1,6,6)\n",
    "    plt.imshow(f.imag, cmap = 'gray')\n",
    "#     f = dislocar(f)\n",
    "\n",
    "    f_inv = ifft(f)\n",
    "    # for i in range(f.shape[0]):\n",
    "    #     for j in range(f.shape[1]):\n",
    "    #         print(f_inv[i,j])\n",
    "#     plt.figure(figsize=(10,10))\n",
    "#     plt.imshow(f_inv.real, cmap = plt.get_cmap(name = 'gray'))\n",
    "    \n",
    "    N = [ [0, 255], [255,0]]\n",
    "    N = np.array(N)\n",
    "    \n",
    "    f_norm = my_scale(N, f_inv.real)\n",
    "    \n",
    "    plt.figure(figsize=(10,10))\n",
    "    plt.imshow(f_norm, cmap = plt.get_cmap(name = 'gray'))\n",
    "    \n",
    "    return f_norm"
   ]
  },
  {
   "cell_type": "code",
   "execution_count": 20,
   "metadata": {},
   "outputs": [
    {
     "name": "stdout",
     "output_type": "stream",
     "text": [
      "camera_saltpepper.png\n",
      "camera_saltpepper.png\n",
      "2\n",
      "0.005\n",
      "5\n",
      "1\n"
     ]
    },
    {
     "name": "stderr",
     "output_type": "stream",
     "text": [
      "/home/jecs89/anaconda3/envs/test/lib/python3.7/site-packages/ipykernel_launcher.py:71: ComplexWarning: Casting complex values to real discards the imaginary part\n"
     ]
    },
    {
     "name": "stdout",
     "output_type": "stream",
     "text": [
      "136.58508228029172\n"
     ]
    },
    {
     "data": {
      "image/png": "[encoded data removed]",
      "text/plain": [
       "<Figure size 720x720 with 2 Axes>"
      ]
     },
     "metadata": {
      "needs_background": "light"
     },
     "output_type": "display_data"
    },
    {
     "data": {
      "image/png": "[encoded data removed]",
      "text/plain": [
       "<Figure size 720x720 with 4 Axes>"
      ]
     },
     "metadata": {
      "needs_background": "light"
     },
     "output_type": "display_data"
    },
    {
     "data": {
      "image/png": "[encoded data removed]",
      "text/plain": [
       "<Figure size 720x720 with 6 Axes>"
      ]
     },
     "metadata": {
      "needs_background": "light"
     },
     "output_type": "display_data"
    },
    {
     "data": {
      "image/png": "[encoded data removed]",
      "text/plain": [
       "<Figure size 720x720 with 1 Axes>"
      ]
     },
     "metadata": {
      "needs_background": "light"
     },
     "output_type": "display_data"
    }
   ],
   "source": [
    "name_reference = str(input()).rstrip()\n",
    "name_degraded  = str(input()).rstrip()\n",
    "\n",
    "F = int(input())\n",
    "if( F == 1 ):\n",
    "    gamma = float(input())\n",
    "    size_denoising_filter = int(input())\n",
    "    denoising_type = str(input())\n",
    "    f_rest = my_fun(name_reference, name_degraded, F, gamma, np.zeros([size_denoising_filter,size_denoising_filter]), denoising_type, sigma = 0 )\n",
    "    \n",
    "    img_reference =igio.imread(name_reference)\n",
    "    print( my_mse(img_reference, f_rest) )\n",
    "elif( F == 2 ):\n",
    "    gamma = float(input())\n",
    "    size_denoising_filter = int(input())\n",
    "    sigma = float(input())\n",
    "    f_rest = my_fun1(name_reference, name_degraded, F, gamma, size_denoising_filter, sigma )\n",
    "\n",
    "    img_reference =igio.imread(name_reference)\n",
    "    print( my_mse(img_reference, f_rest) )"
   ]
  }
 ],
 "metadata": {
  "kernelspec": {
   "display_name": "Python 3",
   "language": "python",
   "name": "python3"
  },
  "language_info": {
   "codemirror_mode": {
    "name": "ipython",
    "version": 3
   },
   "file_extension": ".py",
   "mimetype": "text/x-python",
   "name": "python",
   "nbconvert_exporter": "python",
   "pygments_lexer": "ipython3",
   "version": "3.7.2"
  }
 },
 "nbformat": 4,
 "nbformat_minor": 2
}
