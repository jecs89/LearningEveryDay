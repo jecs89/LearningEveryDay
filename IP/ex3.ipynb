{
 "cells": [
  {
   "cell_type": "code",
   "execution_count": 1,
   "metadata": {},
   "outputs": [],
   "source": [
    "import imageio as igio\n",
    "import matplotlib.pyplot as plt\n",
    "import numpy as np\n",
    "import random\n",
    "import scipy as scpy"
   ]
  },
  {
   "cell_type": "code",
   "execution_count": 2,
   "metadata": {},
   "outputs": [],
   "source": [
    "def my_mse( A, B):\n",
    "#     if( A.shape != B.shape):\n",
    "#         print('Both matrixes are of same dimensions\\n')\n",
    "    counter = 0\n",
    "    for i in range(0,A.shape[0]):\n",
    "        for j in range(0,A.shape[1]):\n",
    "            counter += (A[i,j]- B[i,j])*(A[i,j]- B[i,j])\n",
    "    print( np.sqrt(counter)/(A.shape[0]*A.shape[1]) )"
   ]
  },
  {
   "cell_type": "code",
   "execution_count": 10,
   "metadata": {},
   "outputs": [],
   "source": [
    "#size of the denoising filter kernel (if type 1) or size of degradation function (if\n",
    "#type 2), k ∈ [3, 5, 7, 9, 11],\n",
    "#Afterwards, if the type of filter is 1 (denoising), get the following input:\n",
    "# • mode for denoising mode = \"average\" or \"robust\",\n",
    "# Otherwise, if the type of filter is 2 (deblurring), then\n",
    "# • sigma for the degradation function σ > 0.\n",
    "\n",
    "def my_scale( img_orig, img_dest  ):\n",
    "    img_scaled = np.zeros(img_orig.shape)\n",
    "    \n",
    "    a = np.min(img_orig)\n",
    "    b = np.max(img_orig)\n",
    "    \n",
    "    img_dest_min = np.min(img_dest)\n",
    "    img_dest_max = np.max(img_dest)\n",
    "    \n",
    "    for i in range(img_dest.shape[0]):\n",
    "        for j in range(img_dest.shape[1]):\n",
    "            img_scaled[i,j] = (b - a)*(img_dest[i,j]-img_dest_min)/(img_dest_max-img_dest_min) + a\n",
    "    \n",
    "    return img_scaled\n",
    "\n",
    "def my_fun(name_reference, name_degraded, F, gamma, size_denoising_filter, denoising_type, sigma ):\n",
    "    \n",
    "    img_reference =igio.imread(name_reference)\n",
    "    print(img_reference.shape)\n",
    "    img_degraded =igio.imread(name_degraded)\n",
    "    print(img_degraded.shape)\n",
    "    \n",
    "    img_f = np.zeros(img_degraded.shape)\n",
    "    print(img_f.shape)\n",
    "    \n",
    "    ##Copy of values with no filter passing\n",
    "    \n",
    "    img_f[0, 0:img_reference.shape[1]-1] = img_reference[0, 0:img_reference.shape[1]-1]\n",
    "    img_f[img_reference.shape[0]-1, 0:img_reference.shape[1]-1] = img_reference[img_reference.shape[0]-1, 0:img_reference.shape[1]-1]\n",
    "    \n",
    "    img_f[0:img_reference.shape[0]-1, 0] = img_reference[0:img_reference.shape[0]-1, 0]\n",
    "    img_f[0:img_reference.shape[0]-1, img_reference.shape[1]-1] = img_reference[0:img_reference.shape[0]-1, img_reference.shape[1]-1]\n",
    "    print(img_f)\n",
    "    \n",
    "    ##Clarify disp_n is only calculates on [0,1/6*m], [0,1/6*n]\n",
    "    \n",
    "    x_d = int(np.floor(img_degraded.shape[0]/6)) ##Clarify what is m or n???\n",
    "    y_d = int(np.floor(img_degraded.shape[1]/6))\n",
    "    \n",
    "    n_range = np.zeros([1, x_d*y_d])\n",
    "    idx = 0\n",
    "    for x in range(0,x_d):\n",
    "        for y in range(0,y_d):\n",
    "            n_range[0, idx] = img_degraded[x,y]\n",
    "            idx += 1\n",
    "        disp_n = np.std(n_range)\n",
    "    \n",
    "     ##Error Checking disp_n\n",
    "    if disp_n == 0:\n",
    "        disp_n = 1\n",
    "    \n",
    "    print('disp_n ', disp_n)\n",
    "    \n",
    "    ##Adaptative Denoising\n",
    "    for i in range(1, img_degraded.shape[0]-2):\n",
    "        for j in range(1, img_degraded.shape[1]-2):\n",
    "#             print(i,j)\n",
    "            \n",
    "#             ##Clarify disp_n is only calculates on [0,1/6*m], [0,1/6*n]\n",
    "#             n_range = np.zeros([1, x_d*y_d])\n",
    "#             idx = 0\n",
    "#             for x in range(0,x_d):\n",
    "#                 for y in range(0,y_d):\n",
    "#                     n_range[0, idx] = img_degraded[x,y]\n",
    "#                     idx += 1\n",
    "#             disp_n = np.std(n_range)\n",
    "           \n",
    "            \n",
    "            ##Calculate disp_l\n",
    "            val = int(np.floor(size_denoising_filter.shape[1]/2))\n",
    "                \n",
    "            l_range = np.zeros([1, int(size_denoising_filter.shape[0]*size_denoising_filter.shape[1]) - 1])\n",
    "            \n",
    "            idx = 0\n",
    "            \n",
    "            inc_i = -val\n",
    "#             print('i j : ', i, j)\n",
    "            for n_i in range(0, size_denoising_filter.shape[0]):\n",
    "                inc_j = -val\n",
    "                for n_j in range(0, size_denoising_filter.shape[1]):\n",
    "                    if( not(n_i == 1 & n_j == 1) ):\n",
    "                        l_range[0, idx] = img_degraded[i + inc_i, j + inc_j]\n",
    "#                         print(l_range)\n",
    "                        idx += 1\n",
    "                    inc_j += 1\n",
    "                inc_i += 1\n",
    "            \n",
    "            disp_l = np.std(l_range)\n",
    "            \n",
    "            ##Error checking\n",
    "            if (disp_l == 0):\n",
    "                disp_l = disp_n\n",
    "            \n",
    "            ##Calculate centr_l\n",
    "            centr_l = 0\n",
    "            if(denoising_type == 'average'):\n",
    "                centr_l = np.average(l_range)\n",
    "            elif(denoising_type == 'robust'):\n",
    "                centrl_l = np.median(l_range)\n",
    "            \n",
    "            \n",
    "            img_f[i,j] = img_degraded[i,j] - gamma * disp_n/disp_l * (img_degraded[i,j] - centr_l)\n",
    "            \n",
    "    igio.imwrite('im_ori.png', img_f.astype('uint8'))\n",
    "    \n",
    "    img_f = my_scale(img_reference, img_f)\n",
    "    \n",
    "    igio.imwrite('im_norm.png', img_f.astype('uint8'))"
   ]
  },
  {
   "cell_type": "code",
   "execution_count": 11,
   "metadata": {},
   "outputs": [
    {
     "name": "stdout",
     "output_type": "stream",
     "text": [
      "(256, 256)\n",
      "(256, 256)\n",
      "(256, 256)\n",
      "[[156. 159. 158. ... 151. 152. 152.]\n",
      " [255.   0.   0. ...   0.   0.   0.]\n",
      " [156.   0.   0. ...   0.   0. 152.]\n",
      " ...\n",
      " [114.   0.   0. ...   0.   0. 114.]\n",
      " [  0.   0.   0. ...   0.   0. 113.]\n",
      " [121. 126. 130. ...   0. 130.   0.]]\n",
      "disp_n  36.071365707944594\n",
      "6.5272393226623535\n"
     ]
    }
   ],
   "source": [
    "import time\n",
    "start = time.time()\n",
    "\n",
    "my_fun(name_reference='camera_saltpepper.png', name_degraded='camera_saltpepper.png', F=1, gamma=0.5, size_denoising_filter=np.zeros([3,3]), denoising_type='average', sigma = 0 )\n",
    "\n",
    "end = time.time()\n",
    "print(end - start)\n"
   ]
  },
  {
   "cell_type": "code",
   "execution_count": 21,
   "metadata": {},
   "outputs": [
    {
     "data": {
      "image/png": "[encoded data removed]",
      "text/plain": [
       "<Figure size 432x288 with 1 Axes>"
      ]
     },
     "metadata": {
      "needs_background": "light"
     },
     "output_type": "display_data"
    }
   ],
   "source": [
    "im = igio.imread('camera_saltpepper.png')\n",
    "fig = plt.imshow(im, cmap = plt.get_cmap(name = 'gray'))\n",
    "\n",
    "im = igio.imread('im_ori.png')\n",
    "fig = plt.imshow(im, cmap = plt.get_cmap(name = 'gray'))\n",
    "\n",
    "im = igio.imread('im_norm.png')\n",
    "fig = plt.imshow(im, cmap = plt.get_cmap(name = 'gray'))\n"
   ]
  },
  {
   "cell_type": "code",
   "execution_count": null,
   "metadata": {},
   "outputs": [],
   "source": []
  },
  {
   "cell_type": "code",
   "execution_count": null,
   "metadata": {},
   "outputs": [],
   "source": []
  }
 ],
 "metadata": {
  "kernelspec": {
   "display_name": "Python 3",
   "language": "python",
   "name": "python3"
  },
  "language_info": {
   "codemirror_mode": {
    "name": "ipython",
    "version": 3
   },
   "file_extension": ".py",
   "mimetype": "text/x-python",
   "name": "python",
   "nbconvert_exporter": "python",
   "pygments_lexer": "ipython3",
   "version": "3.6.7"
  }
 },
 "nbformat": 4,
 "nbformat_minor": 2
}
