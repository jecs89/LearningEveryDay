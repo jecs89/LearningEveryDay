{
 "cells": [
  {
   "cell_type": "code",
   "execution_count": 3,
   "metadata": {},
   "outputs": [
    {
     "data": {
      "text/html": [
       "\n",
       "<style>\n",
       "    div#notebook-container    { width: 95%; }\n",
       "    div#menubar-container     { width: 65%; }\n",
       "    div#maintoolbar-container { width: 99%; }\n",
       "</style>\n"
      ],
      "text/plain": [
       "<IPython.core.display.HTML object>"
      ]
     },
     "metadata": {},
     "output_type": "display_data"
    }
   ],
   "source": [
    "from IPython.display import display, HTML\n",
    "\n",
    "display(HTML(data=\"\"\"\n",
    "<style>\n",
    "    div#notebook-container    { width: 95%; }\n",
    "    div#menubar-container     { width: 65%; }\n",
    "    div#maintoolbar-container { width: 99%; }\n",
    "</style>\n",
    "\"\"\"))"
   ]
  },
  {
   "cell_type": "code",
   "execution_count": 4,
   "metadata": {},
   "outputs": [],
   "source": [
    "### author: Josimar Edinson Chire Saire\n",
    "### NUSP: 10569111\n",
    "### Curso: SCC5830\n",
    "### 2019/I\n",
    "### K-Means\n",
    "\n",
    "import imageio as igio\n",
    "import matplotlib.pyplot as plt\n",
    "import numpy as np\n",
    "import random"
   ]
  },
  {
   "cell_type": "code",
   "execution_count": 40,
   "metadata": {},
   "outputs": [],
   "source": [
    "# Filename for the input image I;\n",
    "# b) Filename for the reference image R;\n",
    "# c) Option for pixel attributes:\n",
    "# 1 - R,G,B\n",
    "# 2 - R,G,B,x,y\n",
    "# 3 - luminance\n",
    "# 4 - luminance,x,y\n",
    "# d) Number of clusters k:\n",
    "# e) Number of iterations: n\n",
    "# f) Seed S to be used for the random centroids choice.\n",
    "# 2. Generate an output image ( ˆI) according to the option for feature extraction.\n",
    "\n",
    "def dist(c, x):\n",
    "    acum = 0\n",
    "    for i in range(0,len(c)):\n",
    "        acum += np.abs(c[i] - x[i])\n",
    "    return acum\n",
    "\n",
    "def function( filename_inp, filename_ref, pixel_att, n_clusters, n_iter, seed ):\n",
    "    img_inp = igio.imread(filename_inp)\n",
    "    \n",
    "    t = 1\n",
    "    img_shape = img_inp.shape\n",
    "    m_dist = np.zeros([n_clusters, img_shape[0], img_shape[1]])\n",
    "    \n",
    "    threshold = 50\n",
    "    centroids = np.zeros([n_clusters, 3])\n",
    "    random.seed( seed )\n",
    "    \n",
    "    for c in range(0, n_clusters):\n",
    "        centroids[c][0] = random.randint(0,img_shape[0])\n",
    "        centroids[c][1] = random.randint(0,img_shape[1])\n",
    "        centroids[c][2] = img_inp[int(centroids[c][0]), int(centroids[c][1])]\n",
    "            \n",
    "    ##print(centroids)\n",
    "    \n",
    "    while( t < 1 ):\n",
    "        \n",
    "        for c in range(0, n_clusters):\n",
    "            for i in range(0, img_shape[0]):\n",
    "                for j in range(0, img_shape[1]):\n",
    "                    m_dist[c,i,j] = dist( [centroids[c,0], centroids[c,1], centroids[c,2] ], [i, j, img_inp[i,j] ] )\n",
    "                    if( m_dist[c,i,j] > threshold ):\n",
    "                        m_dist[c,i,j] = 0\n",
    "        \n",
    "        print(m_dist)\n",
    "        \n",
    "        for c in range(0, n_clusters):\n",
    "            centroids[c][0] = \n",
    "            centroids[c][1] = \n",
    "            centroids[c][2] = \n",
    "                \n",
    "        t+=1\n",
    "    \n",
    "    return img_inp.shape"
   ]
  },
  {
   "cell_type": "code",
   "execution_count": 41,
   "metadata": {},
   "outputs": [
    {
     "name": "stdout",
     "output_type": "stream",
     "text": [
      "[[[-1. -1. -1. ... -1. -1. -1.]\n",
      "  [-1. -1. -1. ... -1. -1. -1.]\n",
      "  [-1. -1. -1. ... -1. -1. -1.]\n",
      "  ...\n",
      "  [-1. -1. -1. ... -1. -1. -1.]\n",
      "  [-1. -1. -1. ... -1. -1. -1.]\n",
      "  [-1. -1. -1. ... -1. -1. -1.]]\n",
      "\n",
      " [[-1. -1. -1. ... -1. -1. -1.]\n",
      "  [-1. -1. -1. ... -1. -1. -1.]\n",
      "  [-1. -1. -1. ... -1. -1. -1.]\n",
      "  ...\n",
      "  [-1. -1. -1. ... -1. -1. -1.]\n",
      "  [-1. -1. -1. ... -1. -1. -1.]\n",
      "  [-1. -1. -1. ... -1. -1. -1.]]\n",
      "\n",
      " [[-1. -1. -1. ... -1. -1. -1.]\n",
      "  [-1. -1. -1. ... -1. -1. -1.]\n",
      "  [-1. -1. -1. ... -1. -1. -1.]\n",
      "  ...\n",
      "  [-1. -1. -1. ... 24. 25. 26.]\n",
      "  [-1. -1. -1. ... 25. 26. 27.]\n",
      "  [-1. -1. -1. ... 26. 27. 28.]]\n",
      "\n",
      " [[-1. -1. -1. ... -1. -1. -1.]\n",
      "  [-1. -1. -1. ... -1. -1. -1.]\n",
      "  [-1. -1. -1. ... -1. -1. -1.]\n",
      "  ...\n",
      "  [-1. -1. -1. ... -1. -1. -1.]\n",
      "  [-1. -1. -1. ... -1. -1. -1.]\n",
      "  [-1. -1. -1. ... -1. -1. -1.]]\n",
      "\n",
      " [[-1. -1. -1. ... -1. -1. -1.]\n",
      "  [-1. -1. -1. ... -1. -1. -1.]\n",
      "  [-1. -1. -1. ... -1. -1. -1.]\n",
      "  ...\n",
      "  [-1. -1. -1. ... -1. -1. -1.]\n",
      "  [-1. -1. -1. ... -1. -1. -1.]\n",
      "  [-1. -1. -1. ... -1. -1. -1.]]]\n"
     ]
    },
    {
     "data": {
      "text/plain": [
       "(256, 256)"
      ]
     },
     "execution_count": 41,
     "metadata": {},
     "output_type": "execute_result"
    }
   ],
   "source": [
    "function(\"result.png\",\"result.png\",1,5,1,1)"
   ]
  },
  {
   "cell_type": "code",
   "execution_count": null,
   "metadata": {},
   "outputs": [],
   "source": []
  }
 ],
 "metadata": {
  "kernelspec": {
   "display_name": "Python 3",
   "language": "python",
   "name": "python3"
  },
  "language_info": {
   "codemirror_mode": {
    "name": "ipython",
    "version": 3
   },
   "file_extension": ".py",
   "mimetype": "text/x-python",
   "name": "python",
   "nbconvert_exporter": "python",
   "pygments_lexer": "ipython3",
   "version": "3.6.7"
  }
 },
 "nbformat": 4,
 "nbformat_minor": 2
}
