{
  "nbformat": 4,
  "nbformat_minor": 0,
  "metadata": {
    "colab": {
      "name": "intro.ipynb",
      "provenance": []
    },
    "kernelspec": {
      "name": "python3",
      "display_name": "Python 3"
    }
  },
  "cells": [
    {
      "cell_type": "code",
      "metadata": {
        "id": "10Q-gaqpGqUF",
        "colab_type": "code",
        "colab": {}
      },
      "source": [
        "##Date: 29-10-2019\n",
        "##Topic: Introduction to Image Processing\n",
        "##Author: Josimar Chire\n",
        "##github link: https://github.com/jecs89/LearningEveryDay/tree/master/IP"
      ],
      "execution_count": 0,
      "outputs": []
    },
    {
      "cell_type": "code",
      "metadata": {
        "id": "taxFyWBRmX7R",
        "colab_type": "code",
        "colab": {}
      },
      "source": [
        "\n",
        "import imageio as io\n",
        "import numpy as np\n",
        "import matplotlib.pyplot as plt"
      ],
      "execution_count": 0,
      "outputs": []
    },
    {
      "cell_type": "code",
      "metadata": {
        "id": "QhUq2kuinQWG",
        "colab_type": "code",
        "colab": {}
      },
      "source": [
        "im1 = np.ones([5, 3])*15\n",
        "im2 = np.ones([5, 3])*25"
      ],
      "execution_count": 0,
      "outputs": []
    },
    {
      "cell_type": "code",
      "metadata": {
        "id": "LI7ERmYZnVs-",
        "colab_type": "code",
        "outputId": "c0cd0dc9-9c16-4f11-b9ee-191fb44f6911",
        "colab": {
          "base_uri": "https://localhost:8080/",
          "height": 282
        }
      },
      "source": [
        "plt.imshow(im1.astype('uint8'), cmap = 'gray')"
      ],
      "execution_count": 0,
      "outputs": [
        {
          "output_type": "execute_result",
          "data": {
            "text/plain": [
              "<matplotlib.image.AxesImage at 0x7f99d02c54a8>"
            ]
          },
          "metadata": {
            "tags": []
          },
          "execution_count": 31
        },
        {
          "output_type": "display_data",
          "data": {
            "image/png": "[encoded data removed]",
            "text/plain": [
              "<Figure size 432x288 with 1 Axes>"
            ]
          },
          "metadata": {
            "tags": []
          }
        }
      ]
    },
    {
      "cell_type": "code",
      "metadata": {
        "id": "E5PP51SGr5J2",
        "colab_type": "code",
        "colab": {}
      },
      "source": [
        "import random"
      ],
      "execution_count": 0,
      "outputs": []
    },
    {
      "cell_type": "code",
      "metadata": {
        "id": "tBbh45SVtKs1",
        "colab_type": "code",
        "colab": {}
      },
      "source": [
        "M = 4\n",
        "N = 4\n",
        "im = np.zeros([M,N])\n",
        "for i in range(0,M):\n",
        "  for j in range(0,N):\n",
        "    im[i,j] = random.randint(0,255)"
      ],
      "execution_count": 0,
      "outputs": []
    },
    {
      "cell_type": "code",
      "metadata": {
        "id": "35SiFubgteif",
        "colab_type": "code",
        "outputId": "841dc116-c4d7-4a15-9618-7d49455920b7",
        "colab": {
          "base_uri": "https://localhost:8080/",
          "height": 354
        }
      },
      "source": [
        "print(im)\n",
        "plt.imshow(im, cmap='gray')"
      ],
      "execution_count": 0,
      "outputs": [
        {
          "output_type": "stream",
          "text": [
            "[[116.  73. 104.  98.]\n",
            " [154. 111. 223.  99.]\n",
            " [246. 207. 186. 165.]\n",
            " [ 55.  29. 159. 162.]]\n"
          ],
          "name": "stdout"
        },
        {
          "output_type": "execute_result",
          "data": {
            "text/plain": [
              "<matplotlib.image.AxesImage at 0x7f99d015a198>"
            ]
          },
          "metadata": {
            "tags": []
          },
          "execution_count": 44
        },
        {
          "output_type": "display_data",
          "data": {
            "image/png": "[encoded data removed]",
            "text/plain": [
              "<Figure size 432x288 with 1 Axes>"
            ]
          },
          "metadata": {
            "tags": []
          }
        }
      ]
    },
    {
      "cell_type": "code",
      "metadata": {
        "id": "LDYwHug_tfuP",
        "colab_type": "code",
        "outputId": "4fd5fe2b-66fe-423d-afb8-7ac67e3cc45e",
        "colab": {
          "base_uri": "https://localhost:8080/",
          "height": 354
        }
      },
      "source": [
        "for i in range(0,M):\n",
        "  for j in range(0,N):\n",
        "    if(im[i,j] < 100):\n",
        "      im[i,j] = 0\n",
        "print(im)\n",
        "plt.imshow(im, cmap = 'gray')"
      ],
      "execution_count": 0,
      "outputs": [
        {
          "output_type": "stream",
          "text": [
            "[[116.   0. 104.   0.]\n",
            " [154. 111. 223.   0.]\n",
            " [246. 207. 186. 165.]\n",
            " [  0.   0. 159. 162.]]\n"
          ],
          "name": "stdout"
        },
        {
          "output_type": "execute_result",
          "data": {
            "text/plain": [
              "<matplotlib.image.AxesImage at 0x7f99d01304e0>"
            ]
          },
          "metadata": {
            "tags": []
          },
          "execution_count": 45
        },
        {
          "output_type": "display_data",
          "data": {
            "image/png": "[encoded data removed]",
            "text/plain": [
              "<Figure size 432x288 with 1 Axes>"
            ]
          },
          "metadata": {
            "tags": []
          }
        }
      ]
    },
    {
      "cell_type": "code",
      "metadata": {
        "id": "TYnYboR2tsEw",
        "colab_type": "code",
        "outputId": "c1efb2d7-f4c9-4805-f1fb-a208f631514b",
        "colab": {
          "base_uri": "https://localhost:8080/",
          "height": 204
        }
      },
      "source": [
        "his = np.zeros([256])\n",
        "\n",
        "for i in range(im.shape[0]):\n",
        "  for j in range(im.shape[1]):\n",
        "    his[int(im[i,j])] += 1\n",
        "    \n",
        "print(his)"
      ],
      "execution_count": 0,
      "outputs": [
        {
          "output_type": "stream",
          "text": [
            "[5. 0. 0. 0. 0. 0. 0. 0. 0. 0. 0. 0. 0. 0. 0. 0. 0. 0. 0. 0. 0. 0. 0. 0.\n",
            " 0. 0. 0. 0. 0. 0. 0. 0. 0. 0. 0. 0. 0. 0. 0. 0. 0. 0. 0. 0. 0. 0. 0. 0.\n",
            " 0. 0. 0. 0. 0. 0. 0. 0. 0. 0. 0. 0. 0. 0. 0. 0. 0. 0. 0. 0. 0. 0. 0. 0.\n",
            " 0. 0. 0. 0. 0. 0. 0. 0. 0. 0. 0. 0. 0. 0. 0. 0. 0. 0. 0. 0. 0. 0. 0. 0.\n",
            " 0. 0. 0. 0. 0. 0. 0. 0. 1. 0. 0. 0. 0. 0. 0. 1. 0. 0. 0. 0. 1. 0. 0. 0.\n",
            " 0. 0. 0. 0. 0. 0. 0. 0. 0. 0. 0. 0. 0. 0. 0. 0. 0. 0. 0. 0. 0. 0. 0. 0.\n",
            " 0. 0. 0. 0. 0. 0. 0. 0. 0. 0. 1. 0. 0. 0. 0. 1. 0. 0. 1. 0. 0. 1. 0. 0.\n",
            " 0. 0. 0. 0. 0. 0. 0. 0. 0. 0. 0. 0. 0. 0. 0. 0. 0. 0. 1. 0. 0. 0. 0. 0.\n",
            " 0. 0. 0. 0. 0. 0. 0. 0. 0. 0. 0. 0. 0. 0. 0. 1. 0. 0. 0. 0. 0. 0. 0. 0.\n",
            " 0. 0. 0. 0. 0. 0. 0. 1. 0. 0. 0. 0. 0. 0. 0. 0. 0. 0. 0. 0. 0. 0. 0. 0.\n",
            " 0. 0. 0. 0. 0. 0. 1. 0. 0. 0. 0. 0. 0. 0. 0. 0.]\n"
          ],
          "name": "stdout"
        }
      ]
    },
    {
      "cell_type": "code",
      "metadata": {
        "id": "XvMtxIjBuT9f",
        "colab_type": "code",
        "outputId": "7115557a-bfbf-4062-eed7-c1579bdf7256",
        "colab": {
          "base_uri": "https://localhost:8080/",
          "height": 282
        }
      },
      "source": [
        "plt.plot(np.array(range(0,256)), his)"
      ],
      "execution_count": 0,
      "outputs": [
        {
          "output_type": "execute_result",
          "data": {
            "text/plain": [
              "[<matplotlib.lines.Line2D at 0x7f99d01a8f98>]"
            ]
          },
          "metadata": {
            "tags": []
          },
          "execution_count": 47
        },
        {
          "output_type": "display_data",
          "data": {
            "image/png": "[encoded data removed]",
            "text/plain": [
              "<Figure size 432x288 with 1 Axes>"
            ]
          },
          "metadata": {
            "tags": []
          }
        }
      ]
    },
    {
      "cell_type": "code",
      "metadata": {
        "id": "Nz9KptbCvVio",
        "colab_type": "code",
        "outputId": "0ef451ac-2005-44cc-adb6-40f93fb6cf97",
        "colab": {
          "base_uri": "https://localhost:8080/",
          "height": 34
        }
      },
      "source": [
        "cd sample_data/\n"
      ],
      "execution_count": 0,
      "outputs": [
        {
          "output_type": "stream",
          "text": [
            "/content/sample_data\n"
          ],
          "name": "stdout"
        }
      ]
    },
    {
      "cell_type": "code",
      "metadata": {
        "id": "vlrWf3KEvxbA",
        "colab_type": "code",
        "outputId": "a1ddeb8c-e73b-493b-853e-4d61847bdcd9",
        "colab": {
          "base_uri": "https://localhost:8080/",
          "height": 68
        }
      },
      "source": [
        "ls\n"
      ],
      "execution_count": 0,
      "outputs": [
        {
          "output_type": "stream",
          "text": [
            "\u001b[0m\u001b[01;32manscombe.json\u001b[0m*                mnist_test.csv\n",
            "california_housing_test.csv   mnist_train_small.csv\n",
            "california_housing_train.csv  \u001b[01;32mREADME.md\u001b[0m*\n"
          ],
          "name": "stdout"
        }
      ]
    },
    {
      "cell_type": "code",
      "metadata": {
        "id": "7m9HQDJFvz_v",
        "colab_type": "code",
        "outputId": "b04c0a29-245a-4058-c032-5db829d635f2",
        "colab": {
          "base_uri": "https://localhost:8080/",
          "height": 204
        }
      },
      "source": [
        "!wget https://www.google.com/images/branding/googlelogo/1x/googlelogo_color_272x92dp.png"
      ],
      "execution_count": 0,
      "outputs": [
        {
          "output_type": "stream",
          "text": [
            "--2019-10-26 15:48:28--  https://www.google.com/images/branding/googlelogo/1x/googlelogo_color_272x92dp.png\n",
            "Resolving www.google.com (www.google.com)... 108.177.119.99, 108.177.119.106, 108.177.119.103, ...\n",
            "Connecting to www.google.com (www.google.com)|108.177.119.99|:443... connected.\n",
            "HTTP request sent, awaiting response... 200 OK\n",
            "Length: 5969 (5.8K) [image/png]\n",
            "Saving to: ‘googlelogo_color_272x92dp.png’\n",
            "\n",
            "\r          googlelog   0%[                    ]       0  --.-KB/s               \rgooglelogo_color_27 100%[===================>]   5.83K  --.-KB/s    in 0s      \n",
            "\n",
            "2019-10-26 15:48:28 (103 MB/s) - ‘googlelogo_color_272x92dp.png’ saved [5969/5969]\n",
            "\n"
          ],
          "name": "stdout"
        }
      ]
    },
    {
      "cell_type": "code",
      "metadata": {
        "id": "MN5Sdd08wGmP",
        "colab_type": "code",
        "colab": {}
      },
      "source": [
        "im = io.imread('googlelogo_color_272x92dp.png')"
      ],
      "execution_count": 0,
      "outputs": []
    },
    {
      "cell_type": "code",
      "metadata": {
        "id": "VoTLgRfrwL-Q",
        "colab_type": "code",
        "outputId": "3ee9d7c2-1884-4e86-de54-f70963eaf6c5",
        "colab": {
          "base_uri": "https://localhost:8080/",
          "height": 182
        }
      },
      "source": [
        "plt.imshow(im)"
      ],
      "execution_count": 0,
      "outputs": [
        {
          "output_type": "execute_result",
          "data": {
            "text/plain": [
              "<matplotlib.image.AxesImage at 0x7f99cf7ff940>"
            ]
          },
          "metadata": {
            "tags": []
          },
          "execution_count": 63
        },
        {
          "output_type": "display_data",
          "data": {
            "image/png": "[encoded data removed]",
            "text/plain": [
              "<Figure size 432x288 with 1 Axes>"
            ]
          },
          "metadata": {
            "tags": []
          }
        }
      ]
    },
    {
      "cell_type": "code",
      "metadata": {
        "id": "ZmRc9-lUwNDA",
        "colab_type": "code",
        "outputId": "4027c91a-e78c-40ed-a6f4-d99a99be409b",
        "colab": {
          "base_uri": "https://localhost:8080/",
          "height": 207
        }
      },
      "source": [
        "plt.figure(figsize=[25,25])\n",
        "plt.subplot(1,3,1)\n",
        "plt.imshow(im[:,:,0], cmap = 'gray')\n",
        "plt.subplot(1,3,2)\n",
        "plt.imshow(im[:,:,1], cmap = 'gray')\n",
        "plt.subplot(1,3,3)\n",
        "plt.imshow(im[:,:,2], cmap = 'gray')"
      ],
      "execution_count": 0,
      "outputs": [
        {
          "output_type": "execute_result",
          "data": {
            "text/plain": [
              "<matplotlib.image.AxesImage at 0x7f99cf690a58>"
            ]
          },
          "metadata": {
            "tags": []
          },
          "execution_count": 65
        },
        {
          "output_type": "display_data",
          "data": {
            "image/png": "[encoded data removed]",
            "text/plain": [
              "<Figure size 1800x1800 with 3 Axes>"
            ]
          },
          "metadata": {
            "tags": []
          }
        }
      ]
    },
    {
      "cell_type": "code",
      "metadata": {
        "id": "bFbPKuL5wSU_",
        "colab_type": "code",
        "outputId": "1bea30bd-236e-4705-ddfc-0771508a37b8",
        "colab": {
          "base_uri": "https://localhost:8080/",
          "height": 182
        }
      },
      "source": [
        "for i in range(0,im.shape[0]):\n",
        "  for j in range(0,im.shape[1]):\n",
        "    if(im[i,j,0] < 150):\n",
        "      im[i,j,0] = 0\n",
        "plt.imshow(im[:,:,0], cmap = 'gray')"
      ],
      "execution_count": 0,
      "outputs": [
        {
          "output_type": "execute_result",
          "data": {
            "text/plain": [
              "<matplotlib.image.AxesImage at 0x7f99cf2fc9b0>"
            ]
          },
          "metadata": {
            "tags": []
          },
          "execution_count": 75
        },
        {
          "output_type": "display_data",
          "data": {
            "image/png": "[encoded data removed]",
            "text/plain": [
              "<Figure size 432x288 with 1 Axes>"
            ]
          },
          "metadata": {
            "tags": []
          }
        }
      ]
    },
    {
      "cell_type": "code",
      "metadata": {
        "id": "g3cuLeVVxFjX",
        "colab_type": "code",
        "colab": {}
      },
      "source": [
        ""
      ],
      "execution_count": 0,
      "outputs": []
    }
  ]
}