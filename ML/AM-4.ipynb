{
 "cells": [
  {
   "cell_type": "code",
   "execution_count": 1,
   "metadata": {},
   "outputs": [],
   "source": [
    "import pandas as pd\n",
    "import numpy as np\n",
    "\n",
    "from sklearn.metrics import classification_report\n",
    "from sklearn.model_selection import cross_val_score, train_test_split\n",
    "\n",
    "from sklearn.tree import DecisionTreeClassifier\n",
    "from xgboost import XGBClassifier"
   ]
  },
  {
   "cell_type": "code",
   "execution_count": 2,
   "metadata": {},
   "outputs": [
    {
     "name": "stdout",
     "output_type": "stream",
     "text": [
      "<class 'pandas.core.frame.DataFrame'>\n",
      "RangeIndex: 214 entries, 0 to 213\n",
      "Data columns (total 10 columns):\n",
      "RI      214 non-null float64\n",
      "Na      214 non-null float64\n",
      "Mg      214 non-null float64\n",
      "Al      214 non-null float64\n",
      "Si      214 non-null float64\n",
      "K       214 non-null float64\n",
      "Ca      214 non-null float64\n",
      "Ba      214 non-null float64\n",
      "Fe      214 non-null float64\n",
      "Type    214 non-null int64\n",
      "dtypes: float64(9), int64(1)\n",
      "memory usage: 16.8 KB\n"
     ]
    }
   ],
   "source": [
    "glass = pd.read_csv('glass.csv')\n",
    "glass.info()"
   ]
  },
  {
   "cell_type": "code",
   "execution_count": 3,
   "metadata": {},
   "outputs": [
    {
     "name": "stdout",
     "output_type": "stream",
     "text": [
      "train (128, 10)\n",
      "test (86, 10)\n",
      "X_train (128, 9)\n",
      "y_train (128,)\n",
      "X_test (86, 9)\n",
      "y_test (86,)\n"
     ]
    }
   ],
   "source": [
    "# Dividir o dados para treinamento e teste\n",
    "train, test = train_test_split(glass, test_size=.4, random_state=123)\n",
    "\n",
    "print('train {0}'.format(train.shape))\n",
    "print('test {0}'.format(test.shape))\n",
    "\n",
    "X_train = train.drop(['Type'], axis=1)\n",
    "y_train = train['Type']\n",
    "\n",
    "X_test = test.drop(['Type'], axis=1)\n",
    "y_test = test['Type']\n",
    "\n",
    "print('X_train {0}'.format(X_train.shape))\n",
    "print('y_train {0}'.format(y_train.shape))\n",
    "print('X_test {0}'.format(X_test.shape))\n",
    "print('y_test {0}'.format(y_test.shape))"
   ]
  },
  {
   "cell_type": "code",
   "execution_count": 4,
   "metadata": {},
   "outputs": [
    {
     "name": "stdout",
     "output_type": "stream",
     "text": [
      "              precision    recall  f1-score   support\n",
      "\n",
      "           1       0.71      0.74      0.72        23\n",
      "           2       0.67      0.90      0.76        29\n",
      "           3       0.00      0.00      0.00         6\n",
      "           5       0.75      0.38      0.50         8\n",
      "           6       1.00      0.50      0.67         4\n",
      "           7       0.81      0.81      0.81        16\n",
      "\n",
      "   micro avg       0.71      0.71      0.71        86\n",
      "   macro avg       0.66      0.55      0.58        86\n",
      "weighted avg       0.68      0.71      0.68        86\n",
      "\n"
     ]
    }
   ],
   "source": [
    "model = XGBClassifier()\n",
    "model.fit(X_train, y_train)\n",
    "# make predictions for test data\n",
    "y_pred = model.predict(X_test)\n",
    "print(classification_report(y_test, y_pred))"
   ]
  },
  {
   "cell_type": "code",
   "execution_count": 5,
   "metadata": {
    "scrolled": true
   },
   "outputs": [
    {
     "name": "stderr",
     "output_type": "stream",
     "text": [
      "/home/jecs89/anaconda3/envs/tutorialConda/lib/python3.6/site-packages/sklearn/model_selection/_split.py:652: Warning: The least populated class in y has only 5 members, which is too few. The minimum number of members in any class cannot be less than n_splits=10.\n",
      "  % (min_groups, self.n_splits)), Warning)\n"
     ]
    },
    {
     "name": "stdout",
     "output_type": "stream",
     "text": [
      "accuracy: [0.75       0.73333333 0.73333333 0.78571429 0.71428571 0.5\n",
      " 0.75       0.7        0.6        0.6       ]\n",
      "avg accuracy: 0.6866666666666666\n"
     ]
    }
   ],
   "source": [
    "# K-fold cross validation\n",
    "# k=10 sobre o set de treinamento, bagging\n",
    "X = train.drop(['Type'], axis=1)\n",
    "y = train.Type\n",
    "scores = cross_val_score(model, X, y, cv=10, scoring='accuracy')\n",
    "print('accuracy:', scores)\n",
    "print('avg accuracy:', scores.mean())"
   ]
  },
  {
   "cell_type": "code",
   "execution_count": 6,
   "metadata": {},
   "outputs": [
    {
     "name": "stdout",
     "output_type": "stream",
     "text": [
      "              precision    recall  f1-score   support\n",
      "\n",
      "           1       0.67      0.70      0.68        23\n",
      "           2       0.68      0.72      0.70        29\n",
      "           3       0.40      0.33      0.36         6\n",
      "           5       0.83      0.62      0.71         8\n",
      "           6       0.60      0.75      0.67         4\n",
      "           7       0.93      0.88      0.90        16\n",
      "\n",
      "   micro avg       0.71      0.71      0.71        86\n",
      "   macro avg       0.69      0.67      0.67        86\n",
      "weighted avg       0.71      0.71      0.71        86\n",
      "\n"
     ]
    }
   ],
   "source": [
    "clf = DecisionTreeClassifier(random_state=0)\n",
    "clf.fit(X_train, y_train)\n",
    "\n",
    "y_pred = clf.predict(X_test)\n",
    "# avaliando o algoritmo\n",
    "print(classification_report(y_test, y_pred))"
   ]
  },
  {
   "cell_type": "code",
   "execution_count": 7,
   "metadata": {},
   "outputs": [
    {
     "name": "stdout",
     "output_type": "stream",
     "text": [
      "accuracy: [0.75       0.46666667 0.8        0.64285714 0.42857143 0.33333333\n",
      " 0.66666667 0.7        0.6        0.5       ]\n",
      "avg accuracy: 0.5888095238095238\n"
     ]
    },
    {
     "name": "stderr",
     "output_type": "stream",
     "text": [
      "/home/jecs89/anaconda3/envs/tutorialConda/lib/python3.6/site-packages/sklearn/model_selection/_split.py:652: Warning: The least populated class in y has only 5 members, which is too few. The minimum number of members in any class cannot be less than n_splits=10.\n",
      "  % (min_groups, self.n_splits)), Warning)\n"
     ]
    }
   ],
   "source": [
    "# K-fold cross validation\n",
    "# k=10 sobre o set de treinamento, clf\n",
    "X = train.drop(['Type'], axis=1)\n",
    "y = train.Type\n",
    "scores = cross_val_score(clf, X, y, cv=10, scoring='accuracy')\n",
    "print('accuracy:', scores)\n",
    "print('avg accuracy:', scores.mean())"
   ]
  },
  {
   "cell_type": "code",
   "execution_count": null,
   "metadata": {},
   "outputs": [],
   "source": []
  }
 ],
 "metadata": {
  "kernelspec": {
   "display_name": "Python 3",
   "language": "python",
   "name": "python3"
  },
  "language_info": {
   "codemirror_mode": {
    "name": "ipython",
    "version": 3
   },
   "file_extension": ".py",
   "mimetype": "text/x-python",
   "name": "python",
   "nbconvert_exporter": "python",
   "pygments_lexer": "ipython3",
   "version": "3.6.7"
  }
 },
 "nbformat": 4,
 "nbformat_minor": 2
}
