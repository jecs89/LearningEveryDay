{
 "cells": [
  {
   "cell_type": "code",
   "execution_count": 1,
   "metadata": {},
   "outputs": [],
   "source": [
    "import numpy as np\n",
    "import random"
   ]
  },
  {
   "cell_type": "code",
   "execution_count": 2,
   "metadata": {},
   "outputs": [],
   "source": [
    "#initialization of enviroment\n",
    "def init_env(size_env):\n",
    "    env = np.zeros(size_env) #enviroment\n",
    "    \n",
    "    for i in range(env.shape[0]):\n",
    "        for j in range(env.shape[1]):\n",
    "            env[i,j] = random.randint(0,1)\n",
    "    return env "
   ]
  },
  {
   "cell_type": "code",
   "execution_count": 3,
   "metadata": {},
   "outputs": [],
   "source": [
    "#robot position initialization\n",
    "def rob_pos_init(dim):\n",
    "    if( dim[0] == 1):\n",
    "        rob_pos = np.zeros([1,1])\n",
    "        rob_pos[0,0] = random.randint(0,int(dim[1])-1)\n",
    "        return rob_pos\n",
    "    else:\n",
    "        rob_pos = np.zeros([1,len(dim)])\n",
    "        for j in range(0,int(len(dim))):\n",
    "            rob_pos[0,j] = random.randint(0,int(dim[j])-1)\n",
    "        return rob_pos"
   ]
  },
  {
   "cell_type": "code",
   "execution_count": 4,
   "metadata": {},
   "outputs": [],
   "source": [
    "#function check if enviroment is clean\n",
    "def clean_all(env):\n",
    "    count = 1\n",
    "    for i in range(0,env.shape[0]):\n",
    "        for j in range(0,env.shape[1]):\n",
    "            count = count * env[i,j]\n",
    "    return int(count)"
   ]
  },
  {
   "cell_type": "code",
   "execution_count": 5,
   "metadata": {},
   "outputs": [],
   "source": [
    "def my_robot(env, rob_pos, actuators, t):\n",
    "    print('env :\\n' + str(env))\n",
    "    n_steps = 1    #number of steps     \n",
    "    \n",
    "    names = []\n",
    "    for a in actuators:\n",
    "        names.append(a)\n",
    "\n",
    "    #loop with actions\n",
    "    while( n_steps <= t):\n",
    "        if( clean_all(env) == 1 ):\n",
    "            break;\n",
    "        \n",
    "        if( len(actuators[names[0]]) == 1 ):\n",
    "            if( env[0,int(rob_pos[0,0])] == 0):\n",
    "                env[0,int(rob_pos[0,0])] = 1\n",
    "                print('Suck', end = ' ')\n",
    "            else:\n",
    "                r = random.randint(0,1)\n",
    "#                 print(r)\n",
    "                rob_pos[0,0] = rob_pos[0,0] + actuators[names[r]][0]\n",
    "                if( actuators[names[r]][0] == -1 ):\n",
    "                    print('Left', end = ' ')\n",
    "                else:\n",
    "                    print('Right', end = ' ')\n",
    "                if( rob_pos[0,0] < 0 ):\n",
    "                    rob_pos[0,0] = 0\n",
    "                elif( rob_pos[0,0] >= env.shape[1]   ):\n",
    "                    rob_pos[0,0] = (len(env) - 1)\n",
    "        else:    \n",
    "            if( env[int(rob_pos[0,0]),int(rob_pos[0,1])] == 0):\n",
    "                env[int(rob_pos[0,0]),int(rob_pos[0,1])] = 1\n",
    "                print('Suck', end = ' ')\n",
    "            else:\n",
    "                r = random.randint(0,len(actuators)-1)\n",
    "                print(names[r], end=' ')\n",
    "                for i in range(0, len(actuators[names[r]])):\n",
    "                    rob_pos[0,i] = rob_pos[0,i] + actuators[names[r]][i]\n",
    "\n",
    "                for i in range(0, len(env.shape)):\n",
    "                    if( rob_pos[0,i] < 0 ):\n",
    "                        rob_pos[0,i] = 0\n",
    "                    elif( rob_pos[0,i] >= env.shape[i] ):\n",
    "                        rob_pos[0,i] = (env.shape[i] - 1)\n",
    "        n_steps += 1"
   ]
  },
  {
   "cell_type": "code",
   "execution_count": 6,
   "metadata": {},
   "outputs": [
    {
     "name": "stdout",
     "output_type": "stream",
     "text": [
      "2\n",
      "env :\n",
      "[[1. 1.]\n",
      " [0. 0.]]\n",
      "Suck left Suck \n",
      "[[1. 1.]\n",
      " [1. 1.]]\n",
      "3\n",
      "env :\n",
      "[[1. 0. 1.]\n",
      " [0. 1. 1.]\n",
      " [1. 1. 0.]]\n",
      "up right left Suck left right right up left down right down Suck left left up Suck \n",
      "[[1. 1. 1.]\n",
      " [1. 1. 1.]\n",
      " [1. 1. 1.]]\n",
      "4\n",
      "env :\n",
      "[[1. 0. 0. 1.]\n",
      " [1. 1. 1. 1.]\n",
      " [1. 0. 1. 0.]\n",
      " [1. 0. 0. 1.]]\n",
      "down Suck up left Suck up up Suck up up right Suck up down left right up left down up left right right up down right up right right left down left left up up right up right up right up left up left up right down up right left left left left up up down right up up right down left left left right up up right up up down right up left right right right left up left up left right left down right up up up up up up down down right down left Suck left right right right right left right right up Suck \n",
      "[[1. 1. 1. 1.]\n",
      " [1. 1. 1. 1.]\n",
      " [1. 1. 1. 1.]\n",
      " [1. 1. 1. 1.]]\n",
      "5\n",
      "env :\n",
      "[[1. 1. 1. 1. 1.]\n",
      " [1. 1. 0. 1. 0.]\n",
      " [1. 1. 0. 1. 0.]\n",
      " [1. 0. 0. 1. 0.]\n",
      " [0. 1. 0. 0. 1.]]\n",
      "down left down up up down up right right Suck up right right down Suck up left up down right up right left up up right up up up down down Suck up down right down Suck up up up up down left left right right right up down up up up right right up up down left down right down up down left left Suck right left right up up left down Suck left right down right down Suck up right left right right down down left left Suck up left Suck left right down down left Suck \n",
      "[[1. 1. 1. 1. 1.]\n",
      " [1. 1. 1. 1. 1.]\n",
      " [1. 1. 1. 1. 1.]\n",
      " [1. 1. 1. 1. 1.]\n",
      " [1. 1. 1. 1. 1.]]\n",
      "6\n",
      "env :\n",
      "[[1. 1. 0. 0. 0. 0.]\n",
      " [0. 1. 0. 1. 1. 0.]\n",
      " [0. 0. 1. 1. 1. 1.]\n",
      " [1. 0. 1. 1. 0. 0.]\n",
      " [1. 0. 0. 0. 0. 0.]\n",
      " [1. 0. 1. 0. 0. 1.]]\n",
      "up Suck up up up right Suck left up left Suck right up left down up up up right right right up right up down Suck down up left right down down Suck left Suck down Suck up right right right left down left Suck up right left left up left Suck left Suck right up left Suck up left down left down down up down up left down right Suck down Suck right Suck right left left down Suck left down down up left right right down down left down right down left left up up right right down right down Suck right Suck right down down right down left down left down left down right up left down down down down down right down right down left left up left down right up up down up up right up down up down left left down left left down down left down down left right left up right right down up left down left up right right down right right down down right right right left up left left down up left left down up up right left up left left up left left up down left left right right Suck right left left left right up up up right Suck down up up down right right left up down up up up left left down down left right down down up down left up down down down up down right left up left down left right right up right left left right up right left up right right left up left right down left left down down right down down down left right up down left left right up down down right down up right right right Suck \n",
      "[[1. 1. 1. 1. 1. 1.]\n",
      " [1. 1. 1. 1. 1. 1.]\n",
      " [1. 1. 1. 1. 1. 1.]\n",
      " [1. 1. 1. 1. 1. 1.]\n",
      " [1. 1. 1. 1. 1. 1.]\n",
      " [1. 1. 1. 1. 1. 1.]]\n"
     ]
    }
   ],
   "source": [
    "for i in range(2,7):\n",
    "    print(i)\n",
    "    my_size = [ i, i ]\n",
    "    env = init_env(my_size)#np.zeros([1,2])#\n",
    "    env[0,0] = 1\n",
    "    rob_pos = rob_pos_init( env.shape )\n",
    "    actuators = {'left': [0,-1], 'right': [0,1], 'up': [-1,0], 'down': [1,0]}\n",
    "    t = 1000       #number max of steps\n",
    "    my_robot( env, rob_pos, actuators, t)\n",
    "    print('\\n'+str(env))"
   ]
  },
  {
   "cell_type": "code",
   "execution_count": 10,
   "metadata": {},
   "outputs": [
    {
     "name": "stdout",
     "output_type": "stream",
     "text": [
      "env :\n",
      "[[1. 0. 0. 0. 0. 0. 1. 1. 0. 1. 0. 1. 0. 1. 0.]\n",
      " [0. 1. 1. 0. 0. 1. 1. 0. 1. 1. 0. 0. 0. 1. 0.]\n",
      " [1. 1. 0. 0. 0. 0. 1. 1. 0. 1. 1. 1. 0. 0. 0.]\n",
      " [1. 1. 1. 0. 1. 1. 0. 1. 0. 0. 1. 1. 1. 1. 1.]\n",
      " [1. 0. 0. 1. 0. 0. 1. 0. 1. 0. 0. 1. 0. 0. 0.]\n",
      " [1. 1. 0. 1. 0. 0. 0. 1. 1. 0. 1. 1. 1. 0. 1.]\n",
      " [0. 1. 0. 1. 0. 1. 0. 1. 1. 0. 0. 0. 1. 1. 1.]\n",
      " [0. 1. 0. 1. 1. 1. 0. 1. 0. 0. 1. 0. 1. 0. 0.]\n",
      " [0. 1. 1. 1. 0. 0. 0. 0. 1. 1. 0. 0. 1. 1. 0.]\n",
      " [1. 1. 1. 1. 1. 0. 0. 1. 1. 0. 0. 1. 0. 1. 0.]]\n",
      "Suck left Suck right left down left Suck down left up Suck right left down down up up left down Suck left Suck left Suck left Suck left up down right left left left up right Suck left right left left Suck down Suck left left left up up Suck right up down down down up left down down right right down up left left left left down left left up up left left down right left left right up right left up down up up down left left left up left right right Suck up Suck left Suck right left up left left left up left up Suck right up Suck down right left up right Suck left down right left up left right down up right up left left right right up down up right Suck left down up down left left left right left down left left left up right left right up down up down left down up right right up up down right Suck down Suck up up left left down left left right left right right right left up up up right right Suck right Suck right right down Suck right left right down Suck down Suck left down Suck up up left right left right up left right left right down down right left right right Suck down Suck left left left left Suck up up Suck left Suck left down Suck left up Suck left right left right right left left right down left left left left up down up left up down up down right left up down right left left right left right left down down right down down left left down down left left down up up right left down up down left left down right down up right right right up down down left left down up right right up right up right Suck up Suck left Suck up up right Suck down left left Suck left up right up up Suck down down down up up left right down right up up right left right up left up right down left right down left right up down left left down left down right right left right down up up left left down left down left up left down down right left left up down up right left left left right down right Suck down left down right up up right down left up down down up down down up left down up right up down up up up up up up down left right right right right right down down up left up left left left up down left left right left down down down down down left left down right down down right right up down right up left right down right Suck down down down right Suck right right left left up down right up right down up up right left right left up down left left Suck right right left down right up up down left down up down up right left left down right right left left right left left right down down left right up up right right up up right Suck right right down left right up up up down left Suck left down left up down left left right up right right up left down left down down left right up right right up left up right left down left left up up down down right right down up up right down down right down left Suck right up down right right left down Suck down Suck left Suck left left up up up right down down down down Suck left left up right left left up left left down left right right up up up down down left down up down left right left down down right down up up up Suck down down left up right up left right right right up left down right up left up down down left up Suck down down down left right right left left right left down left left up up down down down down right left down right right left up right left down up right up down up left left left down up up down left right right right right down up down left right down left up right up up right down up up right up up down up left up left left right down up left down down right up down down right up up left down down down right down up right up left up left left down left right left right left right left right right right left right left down up down left right right down left down up down right down left right left down down up up down left down right down right up right down left up right right up right right left up right left down right right down down Suck up up up down right down right left down down up down down down down right Suck left left right down right left left right right up left down right down up left up left left right right up right left up down right left up up up down down right right Suck down right left down Suck left right right Suck down Suck left down left left up down down up down left up right down down down down down up down down down up right up right down down up left left right left right up down down up down right right Suck left up down left right left up down down left down left left down up left left up left left left left down left up up up up right right down down left right right left down up up left left up down down up left left down down right right up up right left right right down right right right right left up down up up left up up left up left right \n",
      "[[1. 1. 1. 1. 1. 1. 1. 1. 0. 1. 0. 1. 0. 1. 0.]\n",
      " [1. 1. 1. 1. 1. 1. 1. 1. 1. 1. 0. 0. 0. 1. 0.]\n",
      " [1. 1. 1. 1. 1. 1. 1. 1. 1. 1. 1. 1. 0. 0. 0.]\n",
      " [1. 1. 1. 1. 1. 1. 1. 1. 1. 1. 1. 1. 1. 1. 1.]\n",
      " [1. 1. 1. 1. 1. 1. 1. 1. 1. 1. 1. 1. 0. 0. 0.]\n",
      " [1. 1. 1. 1. 1. 1. 1. 1. 1. 1. 1. 1. 1. 1. 1.]\n",
      " [1. 1. 1. 1. 1. 1. 1. 1. 1. 1. 1. 1. 1. 1. 1.]\n",
      " [1. 1. 1. 1. 1. 1. 1. 1. 1. 1. 1. 1. 1. 1. 1.]\n",
      " [1. 1. 1. 1. 1. 1. 1. 1. 1. 1. 1. 1. 1. 1. 1.]\n",
      " [1. 1. 1. 1. 1. 1. 1. 1. 1. 1. 1. 1. 1. 1. 1.]]\n"
     ]
    }
   ],
   "source": [
    "my_size = [ 10, 15 ]\n",
    "env = init_env(my_size)#np.zeros([1,2])#\n",
    "env[0,0] = 1\n",
    "rob_pos = rob_pos_init( env.shape )\n",
    "actuators = {'left': [0,-1], 'right': [0,1], 'up': [-1,0], 'down': [1,0]}\n",
    "#actuators = {'left': [-1], 'right': [1]}\n",
    "t = 1000       #number max of steps\n",
    "my_robot( env, rob_pos, actuators, t)\n",
    "print('\\n'+str(env))"
   ]
  },
  {
   "cell_type": "code",
   "execution_count": null,
   "metadata": {},
   "outputs": [],
   "source": []
  }
 ],
 "metadata": {
  "kernelspec": {
   "display_name": "Python 3",
   "language": "python",
   "name": "python3"
  },
  "language_info": {
   "codemirror_mode": {
    "name": "ipython",
    "version": 3
   },
   "file_extension": ".py",
   "mimetype": "text/x-python",
   "name": "python",
   "nbconvert_exporter": "python",
   "pygments_lexer": "ipython3",
   "version": "3.6.8"
  }
 },
 "nbformat": 4,
 "nbformat_minor": 2
}
