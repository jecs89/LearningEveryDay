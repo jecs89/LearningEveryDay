{
 "cells": [
  {
   "cell_type": "code",
   "execution_count": 11,
   "metadata": {},
   "outputs": [],
   "source": [
    "import numpy as np\n",
    "import random"
   ]
  },
  {
   "cell_type": "code",
   "execution_count": 17,
   "metadata": {},
   "outputs": [],
   "source": [
    "#number of dimensions\n",
    "dimensions = 1\n",
    "\n",
    "#enviroment\n",
    "env = np.zeros([1,5])\n",
    "\n",
    "actuators = {'left': -1, 'right': 1}\n",
    "len(actuators)\n",
    "\n",
    "#initialization of enviroment\n",
    "for i in range(env.shape[0]):\n",
    "    for j in range(env.shape[1]):\n",
    "        env[i,j] = random.randint(0,1)\n",
    "\n",
    "#robot position initialization\n",
    "rob_pos = np.zeros([1,1])\n",
    "for i in range(rob_pos.shape[0]):\n",
    "    for j in range(rob_pos.shape[1]):\n",
    "        rob_pos[i,j] = random.randint(0,env.shape[1])\n",
    "\n",
    "#function check if enviroment is clean\n",
    "def clean_all(env):\n",
    "    count = 1\n",
    "    for i in range(0,env.shape[0]):\n",
    "        for j in range(0,env.shape[1]):\n",
    "            count = count * env[i,j]\n",
    "    return int(count)\n",
    "\n",
    "t = 1000       #number max of steps\n",
    "def my_robot(env, rob_pos, actuators, t):\n",
    "    print(env)\n",
    "    n_steps = 1    #number of steps     \n",
    "    \n",
    "    names = []\n",
    "    for a in actuators:\n",
    "        names.append(a)\n",
    "        print(actuators[a])\n",
    "\n",
    "    #loop with actions\n",
    "    while( n_steps <= t):\n",
    "        if( clean_all(env) == 1 ):\n",
    "            break;\n",
    "        if( env[0,int(rob_pos[0,0])] != 1):\n",
    "            env[0,int(rob_pos[0,0])] = 1\n",
    "            print('Suck', end = ' ')\n",
    "        else:\n",
    "            r = random.randint(0,1)\n",
    "            rob_pos[0,0] = rob_pos[0,0] + actuators[names[r]]\n",
    "            if( actuators[names[r]] == -1 ):\n",
    "                print('Left', end = ' ')\n",
    "            else:\n",
    "                print('Right', end = ' ')\n",
    "            if( rob_pos[0,0] < 0 ):\n",
    "                rob_pos[0,0] = 0\n",
    "            elif( rob_pos[0,0] >= len(env)   ):\n",
    "                rob_pos[0,0] = (len(env) - 1)\n",
    "        #print(env)\n",
    "        n_steps += 1"
   ]
  },
  {
   "cell_type": "code",
   "execution_count": 18,
   "metadata": {},
   "outputs": [
    {
     "name": "stdout",
     "output_type": "stream",
     "text": [
      "[[0. 1. 1. 1. 1.]]\n",
      "-1\n",
      "1\n",
      "Left Suck "
     ]
    }
   ],
   "source": [
    "#while(True):\n",
    "my_robot( env, rob_pos, actuators, t)"
   ]
  },
  {
   "cell_type": "code",
   "execution_count": null,
   "metadata": {},
   "outputs": [],
   "source": []
  },
  {
   "cell_type": "code",
   "execution_count": null,
   "metadata": {},
   "outputs": [],
   "source": []
  }
 ],
 "metadata": {
  "kernelspec": {
   "display_name": "Python 3",
   "language": "python",
   "name": "python3"
  },
  "language_info": {
   "codemirror_mode": {
    "name": "ipython",
    "version": 3
   },
   "file_extension": ".py",
   "mimetype": "text/x-python",
   "name": "python",
   "nbconvert_exporter": "python",
   "pygments_lexer": "ipython3",
   "version": "3.6.8"
  }
 },
 "nbformat": 4,
 "nbformat_minor": 2
}
