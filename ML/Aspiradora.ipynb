{
 "cells": [
  {
   "cell_type": "code",
   "execution_count": 1,
   "metadata": {},
   "outputs": [],
   "source": [
    "import numpy as np\n",
    "import random"
   ]
  },
  {
   "cell_type": "code",
   "execution_count": 2,
   "metadata": {},
   "outputs": [
    {
     "name": "stdout",
     "output_type": "stream",
     "text": [
      "(1, 2)\n"
     ]
    }
   ],
   "source": [
    "env = np.zeros([1,2])\n",
    "print(env.shape)"
   ]
  },
  {
   "cell_type": "code",
   "execution_count": 3,
   "metadata": {},
   "outputs": [
    {
     "name": "stdout",
     "output_type": "stream",
     "text": [
      "[[0. 1.]]\n"
     ]
    }
   ],
   "source": [
    "for i in range(env.shape[0]):\n",
    "    for j in range(env.shape[1]):\n",
    "        env[i,j] = random.randint(0,1)\n",
    "print(env)"
   ]
  },
  {
   "cell_type": "code",
   "execution_count": 4,
   "metadata": {},
   "outputs": [
    {
     "name": "stdout",
     "output_type": "stream",
     "text": [
      "[[1. 0.]]\n",
      "<class 'int'>\n",
      "0.0\n"
     ]
    }
   ],
   "source": [
    "rob_pos = np.zeros([1,2])\n",
    "\n",
    "for i in range(rob_pos.shape[0]):\n",
    "    for j in range(rob_pos.shape[1]):\n",
    "        rob_pos[i,j] = random.randint(0,1)\n",
    "print(rob_pos)\n",
    "print(type(int(rob_pos[0,0])))\n",
    "print(rob_pos[0,1])"
   ]
  },
  {
   "cell_type": "code",
   "execution_count": 5,
   "metadata": {},
   "outputs": [
    {
     "name": "stdout",
     "output_type": "stream",
     "text": [
      "False\n"
     ]
    }
   ],
   "source": [
    "n_steps = 0\n",
    "t = 1000\n",
    "\n",
    "def clean_all(env):\n",
    "    count = 1\n",
    "    for i in range(0,env.shape[0]):\n",
    "        for j in range(0,env.shape[1]):\n",
    "            count = count * env[i,j]\n",
    "    return int(count)\n",
    "\n",
    "print(clean_all(env) != 0)"
   ]
  },
  {
   "cell_type": "code",
   "execution_count": 6,
   "metadata": {},
   "outputs": [
    {
     "name": "stdout",
     "output_type": "stream",
     "text": [
      "Suck "
     ]
    }
   ],
   "source": [
    "while( n_steps < t):\n",
    "#     print( env[ 0, int(rob_pos[0,1]) ]  )\n",
    "              \n",
    "    if( env[0,int(rob_pos[0,1])] != 1):\n",
    "        env[0,int(rob_pos[0,1])] = 1\n",
    "        print('Suck', end = ' ')\n",
    "    else:\n",
    "        if( rob_pos[0,1] == 0):\n",
    "            rob_pos[0,1] = 1\n",
    "            print('Right', end = ' ')\n",
    "        else:\n",
    "            rob_pos[0,1] = 0\n",
    "            print('Left', end = ' ')\n",
    "    if( clean_all(env) == 1 ):\n",
    "        break;\n",
    "    n_steps += 1"
   ]
  },
  {
   "cell_type": "code",
   "execution_count": 7,
   "metadata": {},
   "outputs": [
    {
     "name": "stdout",
     "output_type": "stream",
     "text": [
      "[[1. 1.]]\n",
      "True\n"
     ]
    }
   ],
   "source": [
    "print(env)\n",
    "print(clean_all(env) == 1)"
   ]
  },
  {
   "cell_type": "code",
   "execution_count": null,
   "metadata": {},
   "outputs": [],
   "source": []
  }
 ],
 "metadata": {
  "kernelspec": {
   "display_name": "Python 3",
   "language": "python",
   "name": "python3"
  },
  "language_info": {
   "codemirror_mode": {
    "name": "ipython",
    "version": 3
   },
   "file_extension": ".py",
   "mimetype": "text/x-python",
   "name": "python",
   "nbconvert_exporter": "python",
   "pygments_lexer": "ipython3",
   "version": "3.6.8"
  }
 },
 "nbformat": 4,
 "nbformat_minor": 2
}
