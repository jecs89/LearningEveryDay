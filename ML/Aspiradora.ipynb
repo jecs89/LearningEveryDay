{
 "cells": [
  {
   "cell_type": "code",
   "execution_count": 2,
   "metadata": {},
   "outputs": [],
   "source": [
    "import numpy as np\n",
    "import random"
   ]
  },
  {
   "cell_type": "code",
   "execution_count": 3,
   "metadata": {},
   "outputs": [],
   "source": [
    "#number of dimensions\n",
    "dimensions = 1\n",
    "\n",
    "#initialization of enviroment\n",
    "def init_env(size_env):\n",
    "    env = np.zeros(size_env) #enviroment\n",
    "    \n",
    "    for i in range(env.shape[0]):\n",
    "        for j in range(env.shape[1]):\n",
    "            env[i,j] = random.randint(0,1)\n",
    "    return env "
   ]
  },
  {
   "cell_type": "code",
   "execution_count": 4,
   "metadata": {},
   "outputs": [],
   "source": [
    "#robot position initialization\n",
    "def rob_pos_init(dim):\n",
    "    if( dim[0] == 1):\n",
    "        rob_pos = np.zeros([1,1])\n",
    "        rob_pos[0,0] = random.randint(0,int(dim[1])-1)\n",
    "        return rob_pos\n",
    "    else:\n",
    "        rob_pos = np.zeros([1,len(dim)])\n",
    "        for j in range(0,int(len(dim))):\n",
    "            rob_pos[0,j] = random.randint(0,int(dim[j])-1)\n",
    "        return rob_pos"
   ]
  },
  {
   "cell_type": "code",
   "execution_count": 5,
   "metadata": {},
   "outputs": [],
   "source": [
    "#function check if enviroment is clean\n",
    "def clean_all(env):\n",
    "    count = 1\n",
    "    for i in range(0,env.shape[0]):\n",
    "        for j in range(0,env.shape[1]):\n",
    "            count = count * env[i,j]\n",
    "    return int(count)"
   ]
  },
  {
   "cell_type": "code",
   "execution_count": 6,
   "metadata": {},
   "outputs": [],
   "source": [
    "def my_robot(env, rob_pos, actuators, t):\n",
    "    print('env :\\n' + str(env))\n",
    "    n_steps = 1    #number of steps     \n",
    "    \n",
    "    names = []\n",
    "    for a in actuators:\n",
    "        names.append(a)\n",
    "\n",
    "    #loop with actions\n",
    "    while( n_steps <= t):\n",
    "        if( clean_all(env) == 1 ):\n",
    "            break;\n",
    "        if( env[int(rob_pos[0,0]),int(rob_pos[0,1])] == 0):\n",
    "            env[int(rob_pos[0,0]),int(rob_pos[0,1])] = 1\n",
    "            print('Suck', end = ' ')\n",
    "        else:\n",
    "            r = random.randint(0,len(actuators)-1)\n",
    "            print(names[r], end=' ')\n",
    "            for i in range(0, len(actuators[names[r]])):\n",
    "                rob_pos[0,i] = rob_pos[0,i] + actuators[names[r]][i]\n",
    "            \n",
    "            for i in range(0, len(env.shape)):\n",
    "                if( rob_pos[0,i] < 0 ):\n",
    "                    rob_pos[0,i] = 0\n",
    "                elif( rob_pos[0,i] >= env.shape[i] ):\n",
    "                    rob_pos[0,i] = (env.shape[i] - 1)\n",
    "        n_steps += 1"
   ]
  },
  {
   "cell_type": "code",
   "execution_count": null,
   "metadata": {},
   "outputs": [],
   "source": [
    "for i in range(2,15):\n",
    "    print(i)\n",
    "    my_size = [ i, i ]\n",
    "    env = init_env(my_size)#np.zeros([1,2])#\n",
    "    env[0,0] = 1\n",
    "    rob_pos = rob_pos_init( env.shape )\n",
    "    actuators = {'left': [0,-1], 'right': [0,1], 'up': [-1,0], 'down': [1,0]}\n",
    "    t = 1000       #number max of steps\n",
    "    my_robot( env, rob_pos, actuators, t)\n",
    "    print('\\n'+str(env))"
   ]
  },
  {
   "cell_type": "code",
   "execution_count": 7,
   "metadata": {},
   "outputs": [
    {
     "name": "stdout",
     "output_type": "stream",
     "text": [
      "env :\n",
      "[[1. 0. 0. 1.]\n",
      " [1. 0. 1. 0.]\n",
      " [1. 0. 0. 1.]\n",
      " [1. 0. 1. 0.]\n",
      " [1. 0. 1. 1.]\n",
      " [1. 0. 0. 1.]\n",
      " [1. 1. 0. 1.]]\n",
      "Suck right down Suck down up left Suck up right left up Suck up left left up left right up right Suck up right down Suck left left right down right left right down Suck down right up up left left right down right right right up down down down left Suck down Suck left down left right right up down up right left right left down left right right left up up down right down right down right down down right left up down up up right down down left left down up Suck up Suck up Suck \n",
      "[[1. 1. 1. 1.]\n",
      " [1. 1. 1. 1.]\n",
      " [1. 1. 1. 1.]\n",
      " [1. 1. 1. 1.]\n",
      " [1. 1. 1. 1.]\n",
      " [1. 1. 1. 1.]\n",
      " [1. 1. 1. 1.]]\n"
     ]
    }
   ],
   "source": [
    "my_size = [ 7, 4 ]\n",
    "env = init_env(my_size)#np.zeros([1,2])#\n",
    "env[0,0] = 1\n",
    "rob_pos = rob_pos_init( env.shape )\n",
    "actuators = {'left': [0,-1], 'right': [0,1], 'up': [-1,0], 'down': [1,0]}\n",
    "t = 1000       #number max of steps\n",
    "my_robot( env, rob_pos, actuators, t)\n",
    "print('\\n'+str(env))"
   ]
  },
  {
   "cell_type": "code",
   "execution_count": null,
   "metadata": {},
   "outputs": [],
   "source": []
  },
  {
   "cell_type": "code",
   "execution_count": null,
   "metadata": {},
   "outputs": [],
   "source": [
    "def init(sizes, value=0):\n",
    "    if (len(sizes) == 1):\n",
    "        return [value] * sizes[0]\n",
    "    else:\n",
    "\n",
    "        # old code - fixed per comment. This method does not create\n",
    "        # sizes[0] *new* lists, it just repeats the same list\n",
    "        # sizes[0] times. This causes unexpected behavior when you\n",
    "        # try to set an item in a list and all of its siblings get\n",
    "        # the same change\n",
    "        # return [init(sizes[1:], value)] * sizes[0]\n",
    "\n",
    "        # this method works better; it creates a new list each time through\n",
    "        return [init(sizes[1:], value) for i in range(0,sizes[0])]\n"
   ]
  },
  {
   "cell_type": "code",
   "execution_count": null,
   "metadata": {},
   "outputs": [],
   "source": [
    "print(init([1,2,3,4,5]))"
   ]
  },
  {
   "cell_type": "code",
   "execution_count": null,
   "metadata": {},
   "outputs": [],
   "source": []
  }
 ],
 "metadata": {
  "kernelspec": {
   "display_name": "Python 3",
   "language": "python",
   "name": "python3"
  },
  "language_info": {
   "codemirror_mode": {
    "name": "ipython",
    "version": 3
   },
   "file_extension": ".py",
   "mimetype": "text/x-python",
   "name": "python",
   "nbconvert_exporter": "python",
   "pygments_lexer": "ipython3",
   "version": "3.6.8"
  }
 },
 "nbformat": 4,
 "nbformat_minor": 2
}
