{
 "cells": [
  {
   "cell_type": "code",
   "execution_count": 28,
   "metadata": {},
   "outputs": [],
   "source": [
    "import numpy as np\n",
    "import random"
   ]
  },
  {
   "cell_type": "code",
   "execution_count": 29,
   "metadata": {},
   "outputs": [
    {
     "name": "stdout",
     "output_type": "stream",
     "text": [
      "(1, 10)\n"
     ]
    }
   ],
   "source": [
    "#number of dimensions\n",
    "dimensions = 1\n",
    "\n",
    "#enviroment\n",
    "env = np.zeros([1,10])\n",
    "print(env.shape)"
   ]
  },
  {
   "cell_type": "code",
   "execution_count": 30,
   "metadata": {},
   "outputs": [
    {
     "name": "stdout",
     "output_type": "stream",
     "text": [
      "[[1. 1. 1. 1. 0. 0. 0. 1. 0. 1.]]\n"
     ]
    }
   ],
   "source": [
    "#initialization of enviroment\n",
    "for i in range(env.shape[0]):\n",
    "    for j in range(env.shape[1]):\n",
    "        env[i,j] = random.randint(0,1)\n",
    "print(env)"
   ]
  },
  {
   "cell_type": "code",
   "execution_count": 31,
   "metadata": {},
   "outputs": [
    {
     "name": "stdout",
     "output_type": "stream",
     "text": [
      "[[8.]]\n",
      "<class 'int'>\n"
     ]
    }
   ],
   "source": [
    "#robot position initialization\n",
    "rob_pos = np.zeros([1,1])\n",
    "\n",
    "for i in range(rob_pos.shape[0]):\n",
    "    for j in range(rob_pos.shape[1]):\n",
    "        rob_pos[i,j] = random.randint(0,9)\n",
    "print(rob_pos)\n",
    "print(type(int(rob_pos[0,0])))\n",
    "#print(rob_pos[0,1])"
   ]
  },
  {
   "cell_type": "code",
   "execution_count": 32,
   "metadata": {},
   "outputs": [
    {
     "name": "stdout",
     "output_type": "stream",
     "text": [
      "False\n"
     ]
    }
   ],
   "source": [
    "n_steps = 1    #number of steps \n",
    "t = 1000       #number max of steps\n",
    "\n",
    "#function check if enviroment is clean\n",
    "def clean_all(env):\n",
    "    count = 1\n",
    "    for i in range(0,env.shape[0]):\n",
    "        for j in range(0,env.shape[1]):\n",
    "            count = count * env[i,j]\n",
    "    return int(count)\n",
    "\n",
    "print(clean_all(env) != 0)"
   ]
  },
  {
   "cell_type": "code",
   "execution_count": 33,
   "metadata": {},
   "outputs": [
    {
     "name": "stdout",
     "output_type": "stream",
     "text": [
      "Suck Left Left Suck Left Suck Left Suck "
     ]
    }
   ],
   "source": [
    "#loop with actions\n",
    "while( n_steps <= t):\n",
    "#     print( env[ 0, int(rob_pos[0,1]) ]  )\n",
    "              \n",
    "    if( env[0,int(rob_pos[0,0])] != 1):\n",
    "        env[0,int(rob_pos[0,0])] = 1\n",
    "        print('Suck', end = ' ')\n",
    "    else:\n",
    "        if( rob_pos[0,0] == 0):\n",
    "            rob_pos[0,0] = rob_pos[0,0] + 1\n",
    "            print('Right', end = ' ')\n",
    "        else:\n",
    "            rob_pos[0,0] = rob_pos[0,0] -1\n",
    "            print('Left', end = ' ')\n",
    "    print( n_steps)we\n",
    "    if( clean_all(env) == 1 ):\n",
    "        break;\n",
    "    \n",
    "    n_steps += 1"
   ]
  },
  {
   "cell_type": "code",
   "execution_count": 34,
   "metadata": {},
   "outputs": [
    {
     "name": "stdout",
     "output_type": "stream",
     "text": [
      "[[1. 1. 1. 1. 1. 1. 1. 1. 1. 1.]]\n",
      "True\n"
     ]
    }
   ],
   "source": [
    "print(env)\n",
    "print(clean_all(env) == 1)"
   ]
  },
  {
   "cell_type": "code",
   "execution_count": null,
   "metadata": {},
   "outputs": [],
   "source": []
  }
 ],
 "metadata": {
  "kernelspec": {
   "display_name": "Python 3",
   "language": "python",
   "name": "python3"
  },
  "language_info": {
   "codemirror_mode": {
    "name": "ipython",
    "version": 3
   },
   "file_extension": ".py",
   "mimetype": "text/x-python",
   "name": "python",
   "nbconvert_exporter": "python",
   "pygments_lexer": "ipython3",
   "version": "3.6.8"
  }
 },
 "nbformat": 4,
 "nbformat_minor": 2
}
