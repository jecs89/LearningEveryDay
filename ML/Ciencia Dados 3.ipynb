{
 "cells": [
  {
   "cell_type": "code",
   "execution_count": 62,
   "metadata": {},
   "outputs": [
    {
     "name": "stdout",
     "output_type": "stream",
     "text": [
      "[[4.9 3.0 1.4 0.2 'Iris-setosa']\n",
      " [4.7 3.2 1.3 0.2 'Iris-setosa']]\n",
      "(149, 5)\n",
      "[[5.1 3.8 1.6 0.2]\n",
      " [4.6 3.2 1.4 0.2]\n",
      " [5.3 3.7 1.5 0.2]\n",
      " [5.0 3.3 1.4 0.2]\n",
      " [7.0 3.2 4.7 1.4]]\n",
      "['Iris-setosa' 'Iris-setosa' 'Iris-setosa' 'Iris-setosa' 'Iris-versicolor']\n"
     ]
    }
   ],
   "source": [
    "import numpy as np # linear algebra\n",
    "import pandas as pd # data processing, CSV file I/O (e.g. pd.read_csv)\n",
    "\n",
    "#'sepal length (cm)','sepal width (cm)','petal length (cm)','petal width (cm)'],\n",
    "iris = pd.read_csv('bezdekIris.data')\n",
    "iris_data = iris.values\n",
    "print(iris_data[0:2,:])\n",
    "print(iris_data.shape)\n",
    "\n",
    "X = iris_data[:,0:4]\n",
    "Y = iris_data[:,4]\n",
    "\n",
    "print(X[45:50,:])\n",
    "print(Y[45:50])"
   ]
  },
  {
   "cell_type": "code",
   "execution_count": 28,
   "metadata": {},
   "outputs": [
    {
     "name": "stdout",
     "output_type": "stream",
     "text": [
      "0.30000000000000016\n"
     ]
    }
   ],
   "source": [
    "##Testing my K-NN\n",
    "def my_mse( x1, x2):\n",
    "    count = 0\n",
    "    for i in range( 0, x1.shape[0]):\n",
    "        count += (x1[i] - x2[i])*(x1[i] - x2[i])\n",
    "    return np.sqrt(count)\n",
    "#print(my_mse(X[0,:],X[1,:]))"
   ]
  },
  {
   "cell_type": "code",
   "execution_count": 61,
   "metadata": {},
   "outputs": [
    {
     "name": "stdout",
     "output_type": "stream",
     "text": [
      "[ 49.  51.  85. 140.  64.]\n",
      "['Iris-versicolor', 'Iris-versicolor', 'Iris-versicolor', 'Iris-virginica', 'Iris-versicolor']\n"
     ]
    }
   ],
   "source": [
    "x = X[49,:]\n",
    "dist = []\n",
    "K = 5\n",
    "for i in range(X.shape[0]):\n",
    "    dist.append( [ i, my_mse( x, X[i,:] ) ] )\n",
    "dist = np.array(dist)    \n",
    "dist = dist[dist[:,1].argsort()]\n",
    "print(dist[0:K,0])\n",
    "\n",
    "res = []\n",
    "for r in range(K):\n",
    "    res.append(Y[int(dist[r,0])])\n",
    "print(res)"
   ]
  },
  {
   "cell_type": "code",
   "execution_count": null,
   "metadata": {},
   "outputs": [],
   "source": [
    "np"
   ]
  }
 ],
 "metadata": {
  "kernelspec": {
   "display_name": "Python 3",
   "language": "python",
   "name": "python3"
  },
  "language_info": {
   "codemirror_mode": {
    "name": "ipython",
    "version": 3
   },
   "file_extension": ".py",
   "mimetype": "text/x-python",
   "name": "python",
   "nbconvert_exporter": "python",
   "pygments_lexer": "ipython3",
   "version": "3.6.7"
  }
 },
 "nbformat": 4,
 "nbformat_minor": 2
}
