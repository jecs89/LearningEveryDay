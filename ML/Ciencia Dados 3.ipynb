{
 "cells": [
  {
   "cell_type": "code",
   "execution_count": 1,
   "metadata": {},
   "outputs": [
    {
     "name": "stdout",
     "output_type": "stream",
     "text": [
      "[[4.9 3.0 1.4 0.2 'Iris-setosa']\n",
      " [4.7 3.2 1.3 0.2 'Iris-setosa']]\n",
      "(149, 5)\n",
      "[[5.1 3.8 1.6 0.2]\n",
      " [4.6 3.2 1.4 0.2]\n",
      " [5.3 3.7 1.5 0.2]\n",
      " [5.0 3.3 1.4 0.2]\n",
      " [7.0 3.2 4.7 1.4]]\n",
      "['Iris-setosa' 'Iris-setosa' 'Iris-setosa' 'Iris-setosa' 'Iris-versicolor']\n",
      "{'Iris-setosa', 'Iris-virginica', 'Iris-versicolor'}\n"
     ]
    }
   ],
   "source": [
    "import numpy as np # linear algebra\n",
    "import pandas as pd # data processing, CSV file I/O (e.g. pd.read_csv)\n",
    "\n",
    "#'sepal length (cm)','sepal width (cm)','petal length (cm)','petal width (cm)'],\n",
    "iris = pd.read_csv('bezdekIris.data')\n",
    "iris_data = iris.values\n",
    "print(iris_data[0:2,:])\n",
    "print(iris_data.shape)\n",
    "\n",
    "X = iris_data[:,0:4]\n",
    "Y = iris_data[:,4]\n",
    "\n",
    "print(X[45:50,:])\n",
    "print(Y[45:50])\n",
    "\n",
    "set_class = {}\n",
    "set_class = set(set_class)\n",
    "\n",
    "for i in range(Y.shape[0]):\n",
    "    set_class.add(Y[i])\n",
    "\n",
    "print(set_class)"
   ]
  },
  {
   "cell_type": "code",
   "execution_count": 2,
   "metadata": {},
   "outputs": [],
   "source": [
    "##Testing my K-NN\n",
    "def my_mse( x1, x2):\n",
    "    count = 0\n",
    "    for i in range( 0, x1.shape[0]):\n",
    "        count += (x1[i] - x2[i])*(x1[i] - x2[i])\n",
    "    return np.sqrt(count)\n",
    "#print(my_mse(X[0,:],X[1,:]))"
   ]
  },
  {
   "cell_type": "code",
   "execution_count": 3,
   "metadata": {},
   "outputs": [
    {
     "name": "stdout",
     "output_type": "stream",
     "text": [
      "[49. 51. 85. 64. 75.]\n",
      "['Iris-versicolor' 'Iris-versicolor' 'Iris-versicolor' 'Iris-versicolor'\n",
      " 'Iris-versicolor']\n",
      "{'Iris-setosa', 'Iris-virginica', 'Iris-versicolor'}\n",
      "Iris-setosa 0 Iris-versicolor\n",
      "Iris-setosa 1 Iris-versicolor\n",
      "Iris-setosa 2 Iris-versicolor\n",
      "Iris-setosa 3 Iris-versicolor\n",
      "Iris-setosa 4 Iris-versicolor\n",
      "\n",
      "Iris-virginica 0 Iris-versicolor\n",
      "Iris-virginica 1 Iris-versicolor\n",
      "Iris-virginica 2 Iris-versicolor\n",
      "Iris-virginica 3 Iris-versicolor\n",
      "Iris-virginica 4 Iris-versicolor\n",
      "\n",
      "Iris-versicolor 0 Iris-versicolor\n",
      "Iris-versicolor 1 Iris-versicolor\n",
      "Iris-versicolor 2 Iris-versicolor\n",
      "Iris-versicolor 3 Iris-versicolor\n",
      "Iris-versicolor 4 Iris-versicolor\n",
      "\n",
      "[[0. 0. 5.]]\n"
     ]
    }
   ],
   "source": [
    "x = X[49,:]\n",
    "dist = []\n",
    "K = 5\n",
    "for i in range(X.shape[0]):\n",
    "    dist.append( [ i, my_mse( x, X[i,:] ) ] )\n",
    "dist = np.array(dist)    \n",
    "dist = dist[dist[:,1].argsort()]\n",
    "print(dist[0:K,0])\n",
    "\n",
    "res = []\n",
    "for r in range(K):\n",
    "    res.append(Y[int(dist[r,0])])\n",
    "res = np.array(res)\n",
    "print(res)\n",
    "\n",
    "count_set = np.zeros( [ 1, 3] )\n",
    "cnt = 0\n",
    "\n",
    "print(set_class)\n",
    "for i in set_class:\n",
    "    for r in range(0,K):\n",
    "        print( i + ' ' + str(r) + ' ' + res[r] )\n",
    "        if( i == res[r] ):\n",
    "            count_set[0,cnt] += 1\n",
    "    print()\n",
    "    cnt += 1\n",
    "print(count_set)"
   ]
  },
  {
   "cell_type": "code",
   "execution_count": 4,
   "metadata": {},
   "outputs": [
    {
     "name": "stdout",
     "output_type": "stream",
     "text": [
      "5.0\n",
      "0\n",
      "Iris-setosa\n"
     ]
    }
   ],
   "source": [
    "class_max = np.max(count_set)\n",
    "print(class_max)\n",
    "\n",
    "idx_max = 0\n",
    "for i in range(count_set.shape[0]):\n",
    "    if( class_max == count_set[0,i] ):\n",
    "        idx_max = i\n",
    "print(idx_max)\n",
    "set_class = list(set_class)\n",
    "# print(set_class[0])\n",
    "print(set_class[idx_max])"
   ]
  },
  {
   "cell_type": "code",
   "execution_count": null,
   "metadata": {},
   "outputs": [],
   "source": []
  }
 ],
 "metadata": {
  "kernelspec": {
   "display_name": "Python 3",
   "language": "python",
   "name": "python3"
  },
  "language_info": {
   "codemirror_mode": {
    "name": "ipython",
    "version": 3
   },
   "file_extension": ".py",
   "mimetype": "text/x-python",
   "name": "python",
   "nbconvert_exporter": "python",
   "pygments_lexer": "ipython3",
   "version": "3.6.7"
  }
 },
 "nbformat": 4,
 "nbformat_minor": 2
}
