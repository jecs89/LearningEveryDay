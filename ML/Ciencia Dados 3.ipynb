{
 "cells": [
  {
   "cell_type": "code",
   "execution_count": 92,
   "metadata": {},
   "outputs": [],
   "source": [
    "## K-Neirest Neighborhood Algorithm with Different Distance Function and Subsampling\n",
    "## Code by jecs89\n",
    "## 16 Abril 2019\n",
    "import numpy as np # linear algebra\n",
    "import pandas as pd # data processing, CSV file I/O (e.g. pd.read_csv)"
   ]
  },
  {
   "cell_type": "code",
   "execution_count": 93,
   "metadata": {},
   "outputs": [],
   "source": [
    "##My Mse Function\n",
    "def my_mse( x1, x2):\n",
    "    count = 0\n",
    "    for i in range( 0, x1.shape[0]):\n",
    "        count += (x1[i] - x2[i])*(x1[i] - x2[i])\n",
    "    return np.sqrt(count)\n",
    "#print(my_mse(X[0,:],X[1,:]))"
   ]
  },
  {
   "cell_type": "code",
   "execution_count": 94,
   "metadata": {},
   "outputs": [],
   "source": [
    "##My KNN Algorithm\n",
    "def my_KNN(X,Y,x, K, function):\n",
    "#     print(X[45:50,:])\n",
    "#     print(Y[45:50])\n",
    "\n",
    "    set_class = {}\n",
    "    set_class = set(set_class)\n",
    "\n",
    "    for i in range(Y.shape[0]):\n",
    "        set_class.add(Y[i])\n",
    "\n",
    "#     print(set_class)\n",
    "    \n",
    "    dist = []\n",
    "\n",
    "    for i in range(X.shape[0]):\n",
    "        dist.append( [ i, function( x, X[i,:] ) ] )\n",
    "    dist = np.array(dist)    \n",
    "    dist = dist[dist[:,1].argsort()]\n",
    "#     print(dist[0:K,0])\n",
    "\n",
    "    res = []\n",
    "    for r in range(K):\n",
    "        res.append(Y[int(dist[r,0])])\n",
    "    res = np.array(res)\n",
    "#     print(res)\n",
    "\n",
    "    count_set = np.zeros( [ 1, 3] )\n",
    "    cnt = 0\n",
    "\n",
    "#     print(set_class)\n",
    "    for i in set_class:\n",
    "        for r in range(0,K):\n",
    "#             print( i + ' ' + str(r) + ' ' + res[r] )\n",
    "            if( i == res[r] ):\n",
    "                count_set[0,cnt] += 1\n",
    "#         print()\n",
    "        cnt += 1\n",
    "#     print(count_set)\n",
    "    \n",
    "    class_max = np.max(count_set)\n",
    "#     print(class_max)\n",
    "\n",
    "    idx_max = 0\n",
    "    for i in range(count_set.shape[0]):\n",
    "        if( class_max == count_set[0,i] ):\n",
    "            idx_max = i\n",
    "#     print(idx_max)\n",
    "    set_class = list(set_class)\n",
    "    # print(set_class[0])\n",
    "    print(set_class[idx_max])"
   ]
  },
  {
   "cell_type": "code",
   "execution_count": 95,
   "metadata": {},
   "outputs": [
    {
     "name": "stdout",
     "output_type": "stream",
     "text": [
      "1 Iris-setosa\n",
      "2 Iris-setosa\n",
      "3 Iris-setosa\n",
      "4 Iris-setosa\n",
      "5 Iris-setosa\n",
      "6 Iris-setosa\n",
      "7 Iris-setosa\n",
      "8 Iris-setosa\n",
      "9 Iris-setosa\n"
     ]
    }
   ],
   "source": [
    "#'sepal length (cm)','sepal width (cm)','petal length (cm)','petal width (cm)'],\n",
    "iris = pd.read_csv('bezdekIris.data')\n",
    "iris_data = iris.values\n",
    "# print(iris_data[0:2,:])\n",
    "# print(iris_data.shape)\n",
    "\n",
    "X = iris_data[:,0:4]\n",
    "Y = iris_data[:,4]\n",
    "\n",
    "x = X[49,:]\n",
    "K = 5\n",
    "\n",
    "##Modifying K Neighbors\n",
    "for i in range(1,10):\n",
    "    print( str(i) + ' ' , end='')\n",
    "    my_KNN( X, Y, x, i, function=my_mse)"
   ]
  },
  {
   "cell_type": "code",
   "execution_count": 88,
   "metadata": {},
   "outputs": [
    {
     "name": "stdout",
     "output_type": "stream",
     "text": [
      "Iris-setosa\n",
      "Iris-setosa\n",
      "Iris-setosa\n",
      "Iris-setosa\n",
      "Iris-setosa\n",
      "Iris-setosa\n",
      "Iris-setosa\n",
      "Iris-setosa\n",
      "Iris-setosa\n",
      "Iris-setosa\n"
     ]
    }
   ],
   "source": [
    "##Random Sampling of K Subsets with MSE Distance\n",
    "import random\n",
    "N_test = 10\n",
    "\n",
    "size_subset = int(X.shape[0]/10)\n",
    "x_subset = np.zeros([size_subset,X.shape[1]])\n",
    "\n",
    "vec_row = np.zeros([ N_test, size_subset])\n",
    "\n",
    "for n_test in range(0,N_test):\n",
    "    x_row = random.sample(range(1, X.shape[0]), size_subset)\n",
    "    x_row = np.sort(x_row)\n",
    "#     print(x_row)\n",
    "    \n",
    "    for idx_subset in range(0,size_subset):\n",
    "        x_subset[idx_subset,:] = X[x_row[idx_subset],:]\n",
    "#         print(x_subset[idx_subset,:])\n",
    "    y_subset = []\n",
    "    for idx_subset in range(0,size_subset):\n",
    "        y_subset.append(Y[x_row[idx_subset]])\n",
    "    \n",
    "    y_subset = np.array(y_subset)\n",
    "#     print(np.array(y_subset).shape)\n",
    "\n",
    "    my_KNN( x_subset, y_subset, x, K, function = my_mse)    "
   ]
  },
  {
   "cell_type": "code",
   "execution_count": 89,
   "metadata": {},
   "outputs": [
    {
     "name": "stdout",
     "output_type": "stream",
     "text": [
      "Iris-setosa\n",
      "Iris-setosa\n",
      "Iris-setosa\n",
      "Iris-setosa\n",
      "Iris-setosa\n",
      "Iris-setosa\n",
      "Iris-setosa\n",
      "Iris-setosa\n",
      "Iris-setosa\n",
      "Iris-setosa\n"
     ]
    }
   ],
   "source": [
    "#chebyshev distance\n",
    "def my_dis1( x1, x2 ):\n",
    "    my_list = []\n",
    "    for i in range(0,x1.shape[0]):\n",
    "        my_list.append( np.abs( x1[i] - x2[i]))\n",
    "    my_list = np.array(my_list)\n",
    "    \n",
    "    return np.max(my_list)\n",
    "\n",
    "##Random Sampling of K Subsets with Chebyshev Distance\n",
    "import random\n",
    "N_test = 10\n",
    "\n",
    "size_subset = int(X.shape[0]/10)\n",
    "x_subset = np.zeros([size_subset,X.shape[1]])\n",
    "\n",
    "vec_row = np.zeros([ N_test, size_subset])\n",
    "\n",
    "for n_test in range(0,N_test):\n",
    "    x_row = random.sample(range(1, X.shape[0]), size_subset)\n",
    "    x_row = np.sort(x_row)\n",
    "    vec_row[n_test,:] = x_row\n",
    "#     print(x_row)\n",
    "    \n",
    "    for idx_subset in range(0,size_subset):\n",
    "        x_subset[idx_subset,:] = X[x_row[idx_subset],:]\n",
    "#         print(x_subset[idx_subset,:])\n",
    "    y_subset = []\n",
    "    for idx_subset in range(0,size_subset):\n",
    "        y_subset.append(Y[x_row[idx_subset]])\n",
    "    \n",
    "    y_subset = np.array(y_subset)\n",
    "#     print(np.array(y_subset).shape)\n",
    "\n",
    "    my_KNN( x_subset, y_subset, x, K, function = my_dis1)    "
   ]
  },
  {
   "cell_type": "code",
   "execution_count": 91,
   "metadata": {},
   "outputs": [
    {
     "name": "stdout",
     "output_type": "stream",
     "text": [
      "Iris-setosa\n",
      "Iris-setosa\n",
      "Iris-setosa\n",
      "Iris-setosa\n",
      "Iris-setosa\n",
      "Iris-setosa\n",
      "Iris-setosa\n",
      "Iris-setosa\n",
      "Iris-setosa\n",
      "Iris-setosa\n"
     ]
    }
   ],
   "source": [
    "#cosine distance\n",
    "def my_dis2( x1, x2 ):\n",
    "    my_list = []\n",
    "\n",
    "    dot = np.dot(x1, x2)\n",
    "    norma = np.linalg.norm(x1)\n",
    "    normb = np.linalg.norm(x2)\n",
    "    cos = dot / (norma * normb)\n",
    "    \n",
    "    return cos\n",
    "\n",
    "##Random Sampling of K Subsets with Cosine Distance\n",
    "import random\n",
    "N_test = 10\n",
    "\n",
    "size_subset = int(X.shape[0]/10)\n",
    "x_subset = np.zeros([size_subset,X.shape[1]])\n",
    "\n",
    "vec_row = np.zeros([ N_test, size_subset])\n",
    "\n",
    "for n_test in range(0,N_test):\n",
    "    x_row = random.sample(range(1, X.shape[0]), size_subset)\n",
    "    x_row = np.sort(x_row)\n",
    "    vec_row[n_test,:] = x_row\n",
    "#     print(x_row)\n",
    "    \n",
    "    for idx_subset in range(0,size_subset):\n",
    "        x_subset[idx_subset,:] = X[x_row[idx_subset],:]\n",
    "#         print(x_subset[idx_subset,:])\n",
    "    y_subset = []\n",
    "    for idx_subset in range(0,size_subset):\n",
    "        y_subset.append(Y[x_row[idx_subset]])\n",
    "    \n",
    "    y_subset = np.array(y_subset)\n",
    "#     print(np.array(y_subset).shape)\n",
    "\n",
    "    my_KNN( x_subset, y_subset, x, K, function = my_dis2)    "
   ]
  },
  {
   "cell_type": "code",
   "execution_count": null,
   "metadata": {},
   "outputs": [],
   "source": []
  }
 ],
 "metadata": {
  "kernelspec": {
   "display_name": "Python 3",
   "language": "python",
   "name": "python3"
  },
  "language_info": {
   "codemirror_mode": {
    "name": "ipython",
    "version": 3
   },
   "file_extension": ".py",
   "mimetype": "text/x-python",
   "name": "python",
   "nbconvert_exporter": "python",
   "pygments_lexer": "ipython3",
   "version": "3.6.7"
  }
 },
 "nbformat": 4,
 "nbformat_minor": 2
}
