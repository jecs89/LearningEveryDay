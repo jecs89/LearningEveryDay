{
 "cells": [
  {
   "cell_type": "code",
   "execution_count": null,
   "metadata": {
    "_cell_guid": "b1076dfc-b9ad-4769-8c92-a6c4dae69d19",
    "_uuid": "8f2839f25d086af736a60e9eeb907d3b93b6e0e5"
   },
   "outputs": [],
   "source": [
    "import numpy as np # linear algebra\n",
    "import pandas as pd # data processing, CSV file I/O (e.g. pd.read_csv)"
   ]
  },
  {
   "cell_type": "code",
   "execution_count": null,
   "metadata": {
    "_kg_hide-input": false,
    "_kg_hide-output": true
   },
   "outputs": [],
   "source": [
    "# Caregando o arquivo\n",
    "df = pd.read_csv('./house-prices-advanced-regression-techniques/train.csv')\n",
    "df.head()"
   ]
  },
  {
   "cell_type": "code",
   "execution_count": null,
   "metadata": {},
   "outputs": [],
   "source": [
    "# Selecionando os atributos para a exploração\n",
    "df.shape[0]\n",
    "df['LotFrontage'][0]\n",
    "\n",
    "mydf = df[['LotArea','Street','BldgType','HouseStyle','OverallQual', 'OverallCond','YearBuilt','TotalBsmtSF','BedroomAbvGr','KitchenAbvGr','SalePrice']]\n",
    "mydf.head()"
   ]
  },
  {
   "cell_type": "code",
   "execution_count": null,
   "metadata": {
    "_kg_hide-output": true
   },
   "outputs": [],
   "source": [
    "# Descrição do conjunto de dados selecionado, nome: mydf\n",
    "mydf.info()"
   ]
  },
  {
   "cell_type": "code",
   "execution_count": null,
   "metadata": {
    "_kg_hide-output": true
   },
   "outputs": [],
   "source": [
    "# Fazendo a conversão dos atributos qualitativos \n",
    "print(mydf['Street'].value_counts())\n",
    "print(mydf['BldgType'].value_counts())\n",
    "print(mydf['HouseStyle'].value_counts())\n",
    "cleanup_nums = {\"Street\": {\"Grvl\":0, \"Pave\":1},\n",
    "                 \"BldgType\": {\"1Fam\":0, \"TwnhsE\": 1, \"Duplex\":2, \"Twnhs\":3, \"2fmCon\":4},\n",
    "                 \"HouseStyle\": {\"1Story\":0, \"2Story\":2, \"1.5Fin\":3, \"SLvl\":4, \"SFoyer\":5, \"1.5Unf\":6, \"2.5Unf\":7, \"2.5Fin\":8}}\n",
    "mydf.replace(cleanup_nums, inplace=True)\n",
    "print(mydf['Street'].value_counts())\n",
    "print(mydf['BldgType'].value_counts())\n",
    "print(mydf['HouseStyle'].value_counts())"
   ]
  },
  {
   "cell_type": "code",
   "execution_count": null,
   "metadata": {
    "scrolled": true
   },
   "outputs": [],
   "source": [
    "mydf.describe()"
   ]
  },
  {
   "cell_type": "code",
   "execution_count": null,
   "metadata": {},
   "outputs": [],
   "source": [
    "##Wrapper Selection Feature\n",
    "##coded by jecs89\n",
    "from sklearn.neural_network import MLPRegressor\n",
    "import random\n",
    "\n",
    "def my_wrapper( mydf, N_test, size_col ):\n",
    "\n",
    "    size_subset = int(mydf.shape[0]/10)\n",
    "    x_subset = np.zeros([size_subset,size_col+1])\n",
    "\n",
    "    mydf_data = mydf.get_values()\n",
    "\n",
    "    vec_row = np.zeros([ N_test, size_subset])\n",
    "    vec_col = np.zeros([ N_test, size_col ])\n",
    "    vec_diff = np.zeros([ 1, N_test ])\n",
    "\n",
    "    for n_test in range(0,N_test):\n",
    "        x_row = random.sample(range(1, mydf.shape[0]), size_subset)\n",
    "        x_row = np.sort(x_row)\n",
    "        vec_row[n_test,:] = x_row\n",
    "\n",
    "        x_col = random.sample(range(0, mydf_data.shape[1]-1), size_col)\n",
    "        x_col = np.sort(x_col)\n",
    "        vec_col[n_test,:] = x_col\n",
    "\n",
    "        c = 0\n",
    "        for idj in range(0, mydf_data.shape[1]-1):\n",
    "            for idx_subset in range(0,size_subset):\n",
    "                if( idj == x_col[c] ):\n",
    "                    x_subset[idx_subset,c] = mydf_data[x_row[idx_subset],x_col[c]]\n",
    "            if(idj == x_col[c]):\n",
    "                c += 1\n",
    "            if( c == size_col ):\n",
    "                break;\n",
    "\n",
    "        for idx_subset in range(0,size_subset):\n",
    "            x_subset[idx_subset,x_subset.shape[1]-1] = mydf_data[x_row[idx_subset],mydf_data.shape[1]-1]\n",
    "\n",
    "        x_st = x_subset[:,0:x_subset.shape[1]-1]\n",
    "        y_st = x_subset[:,x_subset.shape[1]-1]\n",
    "\n",
    "        clf = MLPRegressor(hidden_layer_sizes=(100, ), activation='relu', solver='adam', alpha=0.0001).fit(x_st,y_st)\n",
    "        y_pdt = clf.predict(x_st)\n",
    "        \n",
    "        counter = 0\n",
    "        for i in range(0,x_st.shape[0]):\n",
    "            counter += (y_st[i] - y_pdt[i])*(y_st[i] - y_pdt[i])\n",
    "\n",
    "        vec_diff[0,n_test] = counter\n",
    "#         print(str(clf.score(x_st,y_st))+ ' ' + str(counter))\n",
    "\n",
    "    my_min = vec_diff[0,0]\n",
    "    idx = 0\n",
    "    for i in range(1,N_test):\n",
    "        if( my_min > vec_diff[0,i]):\n",
    "            my_min = vec_diff[0,i]\n",
    "            idx = i\n",
    "            \n",
    "#     print(vec_row[idx,:])\n",
    "#     print(vec_col)\n",
    "    \n",
    "    res = np.zeros([mydf_data.shape[0],size_col+1])\n",
    "    for i in range(0,mydf_data.shape[0]):\n",
    "        for j in range(0,size_col):\n",
    "            res[i,j] = mydf_data[i,int(vec_col[idx,j])]\n",
    "    \n",
    "    res[:,size_col] = mydf_data[:,mydf_data.shape[1]-1]\n",
    "    \n",
    "    return res"
   ]
  },
  {
   "cell_type": "code",
   "execution_count": null,
   "metadata": {},
   "outputs": [],
   "source": [
    "size_col = 3\n",
    "N_test = 20\n",
    "res = my_wrapper( mydf=mydf, N_test=N_test, size_col=size_col)\n",
    "print(res)"
   ]
  },
  {
   "cell_type": "code",
   "execution_count": null,
   "metadata": {},
   "outputs": [],
   "source": []
  },
  {
   "cell_type": "code",
   "execution_count": null,
   "metadata": {},
   "outputs": [],
   "source": []
  }
 ],
 "metadata": {
  "kernelspec": {
   "display_name": "Python 3",
   "language": "python",
   "name": "python3"
  },
  "language_info": {
   "codemirror_mode": {
    "name": "ipython",
    "version": 3
   },
   "file_extension": ".py",
   "mimetype": "text/x-python",
   "name": "python",
   "nbconvert_exporter": "python",
   "pygments_lexer": "ipython3",
   "version": "3.6.8"
  }
 },
 "nbformat": 4,
 "nbformat_minor": 1
}
