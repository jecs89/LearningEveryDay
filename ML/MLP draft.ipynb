{
 "cells": [
  {
   "cell_type": "code",
   "execution_count": 2,
   "metadata": {},
   "outputs": [
    {
     "name": "stdout",
     "output_type": "stream",
     "text": [
      "[[0.05]\n",
      " [0.1 ]\n",
      " [1.  ]] (3, 1) \n",
      " [[0.15 0.3 ]\n",
      " [0.2  0.35]\n",
      " [0.25 0.4 ]] (3, 2) \n",
      " [[0.45 0.6 ]\n",
      " [0.5  0.65]\n",
      " [0.55 0.7 ]] (3, 2) \n",
      " [[0.01]\n",
      " [0.99]] (2, 1)\n"
     ]
    }
   ],
   "source": [
    "#Coded by jecs89\n",
    "#You can find more in github.com/jecs89\n",
    "#MLP Step by step 2\n",
    "\n",
    "import math\n",
    "import numpy as np\n",
    "\n",
    "I = np.matrix('0.05; 0.10; 1')\n",
    "W_IH = np.matrix('0.15 0.30; 0.20 0.35; 0.25 0.40')\n",
    "W_HO = np.matrix('0.45 0.60; 0.50 0.65; 0.55 0.70')\n",
    "\n",
    "Y = np.matrix('0.01; 0.99')\n",
    "\n",
    "print(I, np.shape(I), '\\n', W_IH, np.shape(W_IH),'\\n', W_HO, np.shape(W_HO),'\\n', Y, np.shape(Y))"
   ]
  },
  {
   "cell_type": "code",
   "execution_count": 3,
   "metadata": {},
   "outputs": [],
   "source": [
    "def sig(x):\n",
    "    return 1.0/(1.0 + np.exp(-x))"
   ]
  },
  {
   "cell_type": "code",
   "execution_count": 7,
   "metadata": {},
   "outputs": [
    {
     "name": "stdout",
     "output_type": "stream",
     "text": [
      "[[0.56893321]\n",
      " [0.61063923]]\n"
     ]
    }
   ],
   "source": [
    "H = W_IH.transpose()*I\n",
    "F_H = sig(H)\n",
    "print(F_H)"
   ]
  },
  {
   "cell_type": "code",
   "execution_count": 8,
   "metadata": {},
   "outputs": [
    {
     "name": "stdout",
     "output_type": "stream",
     "text": [
      "[[0.56893321]\n",
      " [0.61063923]\n",
      " [1.        ]]\n"
     ]
    }
   ],
   "source": [
    "tmp = np.zeros([3,1])\n",
    "for i in range(0, np.shape(F_H)[0]):\n",
    "    tmp[i] = F_H[i]\n",
    "tmp[2] = 1.0\n",
    "F_H = tmp\n",
    "print(F_H)"
   ]
  },
  {
   "cell_type": "code",
   "execution_count": 14,
   "metadata": {},
   "outputs": [
    {
     "name": "stdout",
     "output_type": "stream",
     "text": [
      "[[0.75237876]\n",
      " [0.80818745]]\n"
     ]
    }
   ],
   "source": [
    "O = W_HO.transpose()*F_H\n",
    "F_O = sig(O)\n",
    "print(F_O)"
   ]
  },
  {
   "cell_type": "code",
   "execution_count": 24,
   "metadata": {},
   "outputs": [
    {
     "name": "stdout",
     "output_type": "stream",
     "text": [
      "[[0.01]\n",
      " [0.99]]\n",
      "[[ 0.13830885]\n",
      " [-0.02818467]]\n"
     ]
    }
   ],
   "source": [
    "print(Y)\n",
    "Efo = (F_O - Y)\n",
    "for i in range(0,np.shape(Efo)[0]):\n",
    "    Efo[i] = Efo[i]*F_O[i]*(1.0-F_O[i])\n",
    "print(Efo)"
   ]
  },
  {
   "cell_type": "code",
   "execution_count": 71,
   "metadata": {},
   "outputs": [
    {
     "name": "stdout",
     "output_type": "stream",
     "text": [
      "[[0. 0.]\n",
      " [0. 0.]\n",
      " [0. 0.]]\n",
      "[[0.56893321 0.56893321]\n",
      " [0.61063923 0.61063923]\n",
      " [1.         1.        ]]\n"
     ]
    }
   ],
   "source": [
    "d_ow = np.zeros([3,2])\n",
    "#print(d_ow)\n",
    "for j in range(0,2):\n",
    "    for i in range(0,3):\n",
    "        if( i != 3 ):\n",
    "            d_ow[i][j] = F_H[i]\n",
    "        elif( i == 3 ):\n",
    "            d_ow[i][j] = 1.0\n",
    "print(d_ow)"
   ]
  },
  {
   "cell_type": "code",
   "execution_count": 39,
   "metadata": {},
   "outputs": [
    {
     "name": "stdout",
     "output_type": "stream",
     "text": [
      "[[ 0.0786885   0.08445681  0.13830885]\n",
      " [-0.0160352  -0.01721067 -0.02818467]]\n"
     ]
    }
   ],
   "source": [
    "d_E_w_h = np.zeros([2,3])\n",
    "for j in range(0,3):\n",
    "    for i in range(0,2):\n",
    "        d_E_w_h[i][j] = d_ow.transpose()[i][j]*Efo[i]\n",
    "print(d_E_w_h)\n",
    "#print(d_ow[0][0]*Efo[0],d_ow[1][0]*Efo[0],d_ow[2][0]*Efo[0])\n",
    "#print(d_ow[0][0]*Efo[1],d_ow[1][0]*Efo[1],d_ow[2][0]*Efo[1])\n"
   ]
  },
  {
   "cell_type": "code",
   "execution_count": 82,
   "metadata": {},
   "outputs": [
    {
     "name": "stdout",
     "output_type": "stream",
     "text": [
      "[[0.01111665]\n",
      " [0.01208633]]\n"
     ]
    }
   ],
   "source": [
    "Efh = np.zeros([2,1])\n",
    "for i in range(0,2):\n",
    "    acum = 0\n",
    "    for j in range(0,2):\n",
    "        acum = acum + Efo[j] * W_HO[i,j]\n",
    "    Efh[i] = acum * F_H[i]*(1.0-F_H[i])\n",
    "print(Efh)"
   ]
  },
  {
   "cell_type": "code",
   "execution_count": 83,
   "metadata": {},
   "outputs": [
    {
     "name": "stdout",
     "output_type": "stream",
     "text": [
      "[[0.05 0.05]\n",
      " [0.1  0.1 ]\n",
      " [1.   1.  ]]\n"
     ]
    }
   ],
   "source": [
    "d_hw = np.zeros([3,2])\n",
    "#print(d_ow)\n",
    "for j in range(0,2):\n",
    "    for i in range(0,3):\n",
    "        if( i != 3 ):\n",
    "            d_hw[i][j] = I[i]\n",
    "        elif( i == 3 ):\n",
    "            d_ow[i][j] = 1.0\n",
    "print(d_hw)"
   ]
  },
  {
   "cell_type": "code",
   "execution_count": 84,
   "metadata": {},
   "outputs": [
    {
     "name": "stdout",
     "output_type": "stream",
     "text": [
      "[[ 0.0786885   0.08445681  0.13830885]\n",
      " [-0.0160352  -0.01721067 -0.02818467]]\n"
     ]
    }
   ],
   "source": [
    "d_E_w_i = np.zeros([2,3])\n",
    "for j in range(0,3):\n",
    "    for i in range(0,2):\n",
    "        d_E_w_i[i][j] = d_hw.transpose()[i][j]*Efh[i]\n",
    "print(d_E_w_h)"
   ]
  },
  {
   "cell_type": "code",
   "execution_count": null,
   "metadata": {},
   "outputs": [],
   "source": []
  }
 ],
 "metadata": {
  "kernelspec": {
   "display_name": "Python 3",
   "language": "python",
   "name": "python3"
  },
  "language_info": {
   "codemirror_mode": {
    "name": "ipython",
    "version": 3
   },
   "file_extension": ".py",
   "mimetype": "text/x-python",
   "name": "python",
   "nbconvert_exporter": "python",
   "pygments_lexer": "ipython3",
   "version": "3.6.5"
  }
 },
 "nbformat": 4,
 "nbformat_minor": 2
}
