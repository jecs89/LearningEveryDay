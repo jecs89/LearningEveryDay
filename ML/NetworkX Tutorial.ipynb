{
 "cells": [
  {
   "cell_type": "code",
   "execution_count": 107,
   "metadata": {},
   "outputs": [
    {
     "name": "stdout",
     "output_type": "stream",
     "text": [
      "Populating the interactive namespace from numpy and matplotlib\n"
     ]
    }
   ],
   "source": [
    "##Code taken from NetworkX Documentation\n",
    "##Compiled by jecs89\n",
    "\n",
    "#Import lines\n",
    "%pylab inline\n",
    "import networkx as nx\n",
    "\n",
    "from matplotlib import pyplot as plt"
   ]
  },
  {
   "cell_type": "code",
   "execution_count": 108,
   "metadata": {},
   "outputs": [
    {
     "name": "stdout",
     "output_type": "stream",
     "text": [
      "[0, 1, 2, 3]\n",
      "[(0, 1), (1, 2), (2, 3)]\n",
      "{0: 2.0, 1: 1.5, 2: 1.5, 3: 2.0}\n",
      "{0: 2.0, 1: 1.1666666666666667, 2: 1.25, 3: 2.0}\n",
      "{0: 1.0, 1: 1.0, 2: 1.0, 3: 0.0}\n",
      "{0: 1.0, 1: 1.0, 2: 0.0, 3: 0.0}\n"
     ]
    }
   ],
   "source": [
    "###Returns the average degree of the neighborhood of each node.\n",
    "G=nx.path_graph(4)\n",
    "print(G.node)\n",
    "print(G.edges)\n",
    "G.edges[0, 1]['weight'] = 5\n",
    "G.edges[2, 3]['weight'] = 3\n",
    "print(nx.average_neighbor_degree(G))\n",
    "###{0: 2.0, 1: 1.5, 2: 1.5, 3: 2.0}\n",
    "# nx.draw(G, with_labels=True, font_weight='bold')\n",
    "\n",
    "print(nx.average_neighbor_degree(G, weight='weight'))\n",
    "# {0: 2.0, 1: 1.1666666666666667, 2: 1.25, 3: 2.0}\n",
    "G=nx.DiGraph()\n",
    "nx.add_path(G, [0, 1, 2, 3])\n",
    "print(nx.average_neighbor_degree(G, source='in', target='in'))\n",
    "# {0: 1.0, 1: 1.0, 2: 1.0, 3: 0.0}\n",
    "print(nx.average_neighbor_degree(G, source='out', target='out'))\n",
    "# {0: 1.0, 1: 1.0, 2: 0.0, 3: 0.0}"
   ]
  },
  {
   "cell_type": "code",
   "execution_count": 109,
   "metadata": {},
   "outputs": [
    {
     "name": "stdout",
     "output_type": "stream",
     "text": [
      "{1: 2.0, 2: 1.5}\n",
      "{1: 2.0, 2: 1.75}\n"
     ]
    }
   ],
   "source": [
    "##Compute the average degree connectivity of graph.\n",
    "G=nx.path_graph(4)\n",
    "G.edges[1, 2]['weight'] = 3\n",
    "print(nx.k_nearest_neighbors(G))\n",
    "# {1: 2.0, 2: 1.5}\n",
    "print(nx.k_nearest_neighbors(G, weight='weight'))\n",
    "# {1: 2.0, 2: 1.75}"
   ]
  },
  {
   "cell_type": "code",
   "execution_count": 124,
   "metadata": {},
   "outputs": [
    {
     "name": "stdout",
     "output_type": "stream",
     "text": [
      "0.0\n"
     ]
    }
   ],
   "source": [
    "# from networkx.algorithms.approximation.clustering_coefficient import average_clustering\n",
    "##Estimates the average clustering coefficient of G.\n",
    "print(nx.average_clustering(G) )"
   ]
  },
  {
   "cell_type": "code",
   "execution_count": 126,
   "metadata": {},
   "outputs": [
    {
     "name": "stdout",
     "output_type": "stream",
     "text": [
      "{0: 0.4, 1: 0.6666666666666666}\n"
     ]
    }
   ],
   "source": [
    "##Returns the rich-club coefficient of the graph G.\n",
    "G = nx.Graph([(0, 1), (0, 2), (1, 2), (1, 3), (1, 4), (4, 5)])\n",
    "rc = nx.rich_club_coefficient(G, normalized=False)\n",
    "print(rc)\n",
    "# rc[0] # doctest: +SKIP\n",
    "# 0.4"
   ]
  },
  {
   "cell_type": "code",
   "execution_count": 129,
   "metadata": {},
   "outputs": [
    {
     "name": "stdout",
     "output_type": "stream",
     "text": [
      "-0.5\n"
     ]
    }
   ],
   "source": [
    "##Compute degree assortativity of graph.\n",
    "##Assortativity measures the similarity of connections in the graph with respect to the node degree.\n",
    "G=nx.path_graph(4)\n",
    "r=nx.degree_assortativity_coefficient(G)\n",
    "print(\"%3.1f\"%r)\n",
    "# -0.5\n",
    "##energy, entropy"
   ]
  },
  {
   "cell_type": "code",
   "execution_count": 130,
   "metadata": {},
   "outputs": [
    {
     "name": "stdout",
     "output_type": "stream",
     "text": [
      "{0: 0.0, 1: 0.6666666666666666, 2: 0.6666666666666666, 3: 0.0}\n"
     ]
    }
   ],
   "source": [
    "##Compute the shortest-path betweenness centrality for nodes.\n",
    "print( nx.betweenness_centrality(G) )"
   ]
  },
  {
   "cell_type": "code",
   "execution_count": 146,
   "metadata": {},
   "outputs": [],
   "source": [
    "##\n",
    "# G = nx.Graph([(0,1),(1,2),(1,5),(5,4),(2,4),(2,3),(4,3),(3,6)])\n",
    "# c = nx.communicability(G)"
   ]
  },
  {
   "cell_type": "code",
   "execution_count": 143,
   "metadata": {},
   "outputs": [
    {
     "name": "stdout",
     "output_type": "stream",
     "text": [
      "[0, 1, 2, 3, 4]\n",
      "[(0, 1), (0, 2), (0, 3), (0, 4), (1, 2), (1, 3), (1, 4), (2, 3), (2, 4), (3, 4)]\n",
      "[frozenset({0, 1, 2, 3, 4}), frozenset({2, 3, 4, 5, 6})]\n"
     ]
    }
   ],
   "source": [
    "##Find k-clique communities in graph using the percolation method\n",
    "from networkx.algorithms.community import k_clique_communities\n",
    "G = nx.complete_graph(5)\n",
    "print(G.nodes)\n",
    "print(G.edges)\n",
    "K5 = nx.convert_node_labels_to_integers(G,first_label=2)\n",
    "G.add_edges_from(K5.edges())\n",
    "c = list(k_clique_communities(G, 5))\n",
    "print(c)"
   ]
  },
  {
   "cell_type": "code",
   "execution_count": 145,
   "metadata": {},
   "outputs": [
    {
     "ename": "ModuleNotFoundError",
     "evalue": "No module named 'scipy'",
     "output_type": "error",
     "traceback": [
      "\u001b[0;31m---------------------------------------------------------------------------\u001b[0m",
      "\u001b[0;31mModuleNotFoundError\u001b[0m                       Traceback (most recent call last)",
      "\u001b[0;32m<ipython-input-145-845ef1a81554>\u001b[0m in \u001b[0;36m<module>\u001b[0;34m\u001b[0m\n\u001b[0;32m----> 1\u001b[0;31m \u001b[0mnx\u001b[0m\u001b[0;34m.\u001b[0m\u001b[0mlaplacian_spectrum\u001b[0m\u001b[0;34m(\u001b[0m\u001b[0mG\u001b[0m\u001b[0;34m)\u001b[0m\u001b[0;34m\u001b[0m\u001b[0;34m\u001b[0m\u001b[0m\n\u001b[0m",
      "\u001b[0;32m~/anaconda3/envs/tutorialConda/lib/python3.6/site-packages/networkx/linalg/spectrum.py\u001b[0m in \u001b[0;36mlaplacian_spectrum\u001b[0;34m(G, weight)\u001b[0m\n\u001b[1;32m     43\u001b[0m     \u001b[0mlaplacian_matrix\u001b[0m\u001b[0;34m\u001b[0m\u001b[0;34m\u001b[0m\u001b[0m\n\u001b[1;32m     44\u001b[0m     \"\"\"\n\u001b[0;32m---> 45\u001b[0;31m     \u001b[0;32mfrom\u001b[0m \u001b[0mscipy\u001b[0m\u001b[0;34m.\u001b[0m\u001b[0mlinalg\u001b[0m \u001b[0;32mimport\u001b[0m \u001b[0meigvalsh\u001b[0m\u001b[0;34m\u001b[0m\u001b[0;34m\u001b[0m\u001b[0m\n\u001b[0m\u001b[1;32m     46\u001b[0m     \u001b[0;32mreturn\u001b[0m \u001b[0meigvalsh\u001b[0m\u001b[0;34m(\u001b[0m\u001b[0mnx\u001b[0m\u001b[0;34m.\u001b[0m\u001b[0mlaplacian_matrix\u001b[0m\u001b[0;34m(\u001b[0m\u001b[0mG\u001b[0m\u001b[0;34m,\u001b[0m \u001b[0mweight\u001b[0m\u001b[0;34m=\u001b[0m\u001b[0mweight\u001b[0m\u001b[0;34m)\u001b[0m\u001b[0;34m.\u001b[0m\u001b[0mtodense\u001b[0m\u001b[0;34m(\u001b[0m\u001b[0;34m)\u001b[0m\u001b[0;34m)\u001b[0m\u001b[0;34m\u001b[0m\u001b[0;34m\u001b[0m\u001b[0m\n\u001b[1;32m     47\u001b[0m \u001b[0;34m\u001b[0m\u001b[0m\n",
      "\u001b[0;31mModuleNotFoundError\u001b[0m: No module named 'scipy'"
     ]
    }
   ],
   "source": [
    "nx.laplacian_spectrum(G)"
   ]
  },
  {
   "cell_type": "code",
   "execution_count": null,
   "metadata": {},
   "outputs": [],
   "source": []
  }
 ],
 "metadata": {
  "kernelspec": {
   "display_name": "Python 3",
   "language": "python",
   "name": "python3"
  },
  "language_info": {
   "codemirror_mode": {
    "name": "ipython",
    "version": 3
   },
   "file_extension": ".py",
   "mimetype": "text/x-python",
   "name": "python",
   "nbconvert_exporter": "python",
   "pygments_lexer": "ipython3",
   "version": "3.6.7"
  }
 },
 "nbformat": 4,
 "nbformat_minor": 2
}
