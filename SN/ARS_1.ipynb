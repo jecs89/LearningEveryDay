{
 "cells": [
  {
   "cell_type": "code",
   "execution_count": 20,
   "metadata": {},
   "outputs": [],
   "source": [
    "#author: jecs89\n",
    "#Description: Propagation of Opinions using Simple Network of Actors"
   ]
  },
  {
   "cell_type": "code",
   "execution_count": 1,
   "metadata": {},
   "outputs": [
    {
     "name": "stderr",
     "output_type": "stream",
     "text": [
      "In /home/jecs89/anaconda3/envs/test/lib/python3.7/site-packages/matplotlib/mpl-data/stylelib/_classic_test.mplstyle: \n",
      "The savefig.frameon rcparam was deprecated in Matplotlib 3.1 and will be removed in 3.3.\n",
      "In /home/jecs89/anaconda3/envs/test/lib/python3.7/site-packages/matplotlib/mpl-data/stylelib/_classic_test.mplstyle: \n",
      "The verbose.level rcparam was deprecated in Matplotlib 3.1 and will be removed in 3.3.\n",
      "In /home/jecs89/anaconda3/envs/test/lib/python3.7/site-packages/matplotlib/mpl-data/stylelib/_classic_test.mplstyle: \n",
      "The verbose.fileo rcparam was deprecated in Matplotlib 3.1 and will be removed in 3.3.\n"
     ]
    }
   ],
   "source": [
    "import numpy as np\n",
    "import matplotlib.pyplot as plt\n",
    "import random"
   ]
  },
  {
   "cell_type": "code",
   "execution_count": 2,
   "metadata": {},
   "outputs": [],
   "source": [
    "actors = 6\n",
    "T = 100"
   ]
  },
  {
   "cell_type": "code",
   "execution_count": 3,
   "metadata": {},
   "outputs": [],
   "source": [
    "conexions = []\n",
    "conexions.append( [2,6] )\n",
    "conexions.append( [1,3] )\n",
    "conexions.append( [2,4] )\n",
    "conexions.append( [3,5] )\n",
    "conexions.append( [4,6] )\n",
    "conexions.append( [1,5] )"
   ]
  },
  {
   "cell_type": "code",
   "execution_count": 4,
   "metadata": {},
   "outputs": [
    {
     "name": "stdout",
     "output_type": "stream",
     "text": [
      "[[2, 6], [1, 3], [2, 4], [3, 5], [4, 6], [1, 5]]\n"
     ]
    }
   ],
   "source": [
    "print(conexions)"
   ]
  },
  {
   "cell_type": "code",
   "execution_count": 7,
   "metadata": {},
   "outputs": [
    {
     "name": "stdout",
     "output_type": "stream",
     "text": [
      "['a', 'b', 'c', 'd', 'e', 'f']\n",
      "[ 1.  1. -1. -1.  1. -1.]\n"
     ]
    }
   ],
   "source": [
    "opinions = np.ones(actors)\n",
    "for i in range(opinions.shape[0]):\n",
    "    coin = random.random()\n",
    "    if coin <= 0.5:\n",
    "        opinions[i] = opinions[i]*-1\n",
    "names = ['a','b','c','d','e','f']\n",
    "print(names)\n",
    "print(opinions)"
   ]
  },
  {
   "cell_type": "code",
   "execution_count": 18,
   "metadata": {},
   "outputs": [
    {
     "name": "stdout",
     "output_type": "stream",
     "text": [
      "3: -1.0,-1.0 -1.0, -1.0\n",
      "4: -1.0,-1.0 -1.0, -1.0\n",
      "3: -1.0,-1.0 -1.0, -1.0\n",
      "2: -1.0,-1.0 -1.0, -1.0\n",
      "5: -1.0,-1.0 -1.0, -1.0\n",
      "0: -1.0,-1.0 -1.0, -1.0\n",
      "1: -1.0,-1.0 -1.0, -1.0\n",
      "3: -1.0,-1.0 -1.0, -1.0\n",
      "2: -1.0,-1.0 -1.0, -1.0\n",
      "4: -1.0,-1.0 -1.0, -1.0\n",
      "1: -1.0,-1.0 -1.0, -1.0\n",
      "0: -1.0,-1.0 -1.0, -1.0\n",
      "0: -1.0,-1.0 -1.0, -1.0\n",
      "5: -1.0,-1.0 -1.0, -1.0\n",
      "2: -1.0,-1.0 -1.0, -1.0\n",
      "3: -1.0,-1.0 -1.0, -1.0\n",
      "3: -1.0,-1.0 -1.0, -1.0\n",
      "3: -1.0,-1.0 -1.0, -1.0\n",
      "1: -1.0,-1.0 -1.0, -1.0\n",
      "3: -1.0,-1.0 -1.0, -1.0\n",
      "3: -1.0,-1.0 -1.0, -1.0\n",
      "5: -1.0,-1.0 -1.0, -1.0\n",
      "3: -1.0,-1.0 -1.0, -1.0\n",
      "0: -1.0,-1.0 -1.0, -1.0\n",
      "1: -1.0,-1.0 -1.0, -1.0\n",
      "0: -1.0,-1.0 -1.0, -1.0\n",
      "5: -1.0,-1.0 -1.0, -1.0\n",
      "2: -1.0,-1.0 -1.0, -1.0\n",
      "5: -1.0,-1.0 -1.0, -1.0\n",
      "1: -1.0,-1.0 -1.0, -1.0\n",
      "0: -1.0,-1.0 -1.0, -1.0\n",
      "5: -1.0,-1.0 -1.0, -1.0\n",
      "2: -1.0,-1.0 -1.0, -1.0\n",
      "1: -1.0,-1.0 -1.0, -1.0\n",
      "5: -1.0,-1.0 -1.0, -1.0\n",
      "5: -1.0,-1.0 -1.0, -1.0\n",
      "2: -1.0,-1.0 -1.0, -1.0\n",
      "1: -1.0,-1.0 -1.0, -1.0\n",
      "3: -1.0,-1.0 -1.0, -1.0\n",
      "0: -1.0,-1.0 -1.0, -1.0\n",
      "3: -1.0,-1.0 -1.0, -1.0\n",
      "2: -1.0,-1.0 -1.0, -1.0\n",
      "1: -1.0,-1.0 -1.0, -1.0\n",
      "0: -1.0,-1.0 -1.0, -1.0\n",
      "0: -1.0,-1.0 -1.0, -1.0\n",
      "3: -1.0,-1.0 -1.0, -1.0\n",
      "4: -1.0,-1.0 -1.0, -1.0\n",
      "5: -1.0,-1.0 -1.0, -1.0\n",
      "1: -1.0,-1.0 -1.0, -1.0\n",
      "3: -1.0,-1.0 -1.0, -1.0\n",
      "0: -1.0,-1.0 -1.0, -1.0\n",
      "1: -1.0,-1.0 -1.0, -1.0\n",
      "4: -1.0,-1.0 -1.0, -1.0\n",
      "4: -1.0,-1.0 -1.0, -1.0\n",
      "4: -1.0,-1.0 -1.0, -1.0\n",
      "5: -1.0,-1.0 -1.0, -1.0\n",
      "1: -1.0,-1.0 -1.0, -1.0\n",
      "2: -1.0,-1.0 -1.0, -1.0\n",
      "3: -1.0,-1.0 -1.0, -1.0\n",
      "3: -1.0,-1.0 -1.0, -1.0\n",
      "3: -1.0,-1.0 -1.0, -1.0\n",
      "1: -1.0,-1.0 -1.0, -1.0\n",
      "2: -1.0,-1.0 -1.0, -1.0\n",
      "5: -1.0,-1.0 -1.0, -1.0\n",
      "4: -1.0,-1.0 -1.0, -1.0\n",
      "5: -1.0,-1.0 -1.0, -1.0\n",
      "1: -1.0,-1.0 -1.0, -1.0\n",
      "1: -1.0,-1.0 -1.0, -1.0\n",
      "4: -1.0,-1.0 -1.0, -1.0\n",
      "5: -1.0,-1.0 -1.0, -1.0\n",
      "4: -1.0,-1.0 -1.0, -1.0\n",
      "0: -1.0,-1.0 -1.0, -1.0\n",
      "0: -1.0,-1.0 -1.0, -1.0\n",
      "2: -1.0,-1.0 -1.0, -1.0\n",
      "4: -1.0,-1.0 -1.0, -1.0\n",
      "3: -1.0,-1.0 -1.0, -1.0\n",
      "0: -1.0,-1.0 -1.0, -1.0\n",
      "4: -1.0,-1.0 -1.0, -1.0\n",
      "2: -1.0,-1.0 -1.0, -1.0\n",
      "3: -1.0,-1.0 -1.0, -1.0\n",
      "5: -1.0,-1.0 -1.0, -1.0\n",
      "3: -1.0,-1.0 -1.0, -1.0\n",
      "0: -1.0,-1.0 -1.0, -1.0\n",
      "2: -1.0,-1.0 -1.0, -1.0\n",
      "4: -1.0,-1.0 -1.0, -1.0\n",
      "3: -1.0,-1.0 -1.0, -1.0\n",
      "3: -1.0,-1.0 -1.0, -1.0\n",
      "4: -1.0,-1.0 -1.0, -1.0\n",
      "1: -1.0,-1.0 -1.0, -1.0\n",
      "0: -1.0,-1.0 -1.0, -1.0\n",
      "2: -1.0,-1.0 -1.0, -1.0\n",
      "3: -1.0,-1.0 -1.0, -1.0\n",
      "0: -1.0,-1.0 -1.0, -1.0\n",
      "2: -1.0,-1.0 -1.0, -1.0\n",
      "4: -1.0,-1.0 -1.0, -1.0\n",
      "2: -1.0,-1.0 -1.0, -1.0\n",
      "5: -1.0,-1.0 -1.0, -1.0\n",
      "5: -1.0,-1.0 -1.0, -1.0\n",
      "4: -1.0,-1.0 -1.0, -1.0\n",
      "4: -1.0,-1.0 -1.0, -1.0\n"
     ]
    }
   ],
   "source": [
    "for t in range(T):\n",
    "    rand_actor = random.randrange(1,actors+1)\n",
    "    chosen = rand_actor - 1\n",
    "    print(chosen, end=': ')\n",
    "    neighbours = conexions[chosen]\n",
    "    new_opinion = 0\n",
    "    print( opinions[chosen], end=',' )\n",
    "    print( opinions[neighbours[0]-1], opinions[neighbours[1]-1], end=', ' )\n",
    "\n",
    "    if opinions[neighbours[0]-1] == opinions[neighbours[1]-1]:\n",
    "        new_opinion = opinions[neighbours[0]-1]\n",
    "    else:\n",
    "        coin = random.random()\n",
    "        if coin <= 0.5:\n",
    "            new_opinion = opinions[neighbours[0]-1]\n",
    "        else:\n",
    "            new_opinion = opinions[neighbours[1]-1]\n",
    "    opinions[chosen] = new_opinion\n",
    "    print(new_opinion)"
   ]
  },
  {
   "cell_type": "code",
   "execution_count": 15,
   "metadata": {},
   "outputs": [],
   "source": [
    "import networkx as nx\n",
    "G = nx.Graph()\n",
    "for i in range(len(conexions)):\n",
    "    for j in range(len(conexions[i])):\n",
    "        G.add_edge(i, conexions[i][j]-1)"
   ]
  },
  {
   "cell_type": "code",
   "execution_count": 19,
   "metadata": {},
   "outputs": [
    {
     "data": {
      "image/png": "[encoded data removed]",
      "text/plain": [
       "<Figure size 432x288 with 1 Axes>"
      ]
     },
     "metadata": {},
     "output_type": "display_data"
    }
   ],
   "source": [
    "nx.draw(G)"
   ]
  },
  {
   "cell_type": "code",
   "execution_count": null,
   "metadata": {},
   "outputs": [],
   "source": []
  }
 ],
 "metadata": {
  "kernelspec": {
   "display_name": "Python 3",
   "language": "python",
   "name": "python3"
  },
  "language_info": {
   "codemirror_mode": {
    "name": "ipython",
    "version": 3
   },
   "file_extension": ".py",
   "mimetype": "text/x-python",
   "name": "python",
   "nbconvert_exporter": "python",
   "pygments_lexer": "ipython3",
   "version": "3.7.4"
  }
 },
 "nbformat": 4,
 "nbformat_minor": 2
}
